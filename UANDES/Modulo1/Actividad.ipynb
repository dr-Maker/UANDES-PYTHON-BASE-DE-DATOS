{
 "cells": [
  {
   "cell_type": "code",
   "execution_count": 8,
   "metadata": {},
   "outputs": [],
   "source": [
    "lista_peliculas = ['Jurasic Park','Pulp Fictuion']\n",
    "diccionario_directores = {'Spilberg':['Indiana Jhones'],\n",
    "                        'Tarantino': ['Django']}\n",
    "\n",
    "\n"
   ]
  },
  {
   "cell_type": "code",
   "execution_count": 9,
   "metadata": {},
   "outputs": [],
   "source": [
    "diccionario_directores[\"Spilberg\"].append(lista_peliculas[0])\n",
    "diccionario_directores[\"Tarantino\"].append(lista_peliculas[1])\n",
    "\n"
   ]
  },
  {
   "cell_type": "code",
   "execution_count": 10,
   "metadata": {},
   "outputs": [
    {
     "name": "stdout",
     "output_type": "stream",
     "text": [
      "{'Spilberg': ['Indiana Jhones', 'Jurasic Park'], 'Tarantino': ['Django', 'Pulp Fictuion']}\n"
     ]
    }
   ],
   "source": [
    "print(diccionario_directores)"
   ]
  },
  {
   "cell_type": "code",
   "execution_count": 12,
   "metadata": {},
   "outputs": [],
   "source": [
    "diccionario_directores[\"Spilberg\"].extend([\"Jurasic Park 2\",\"indiana Jones 2\"])\n",
    "diccionario_directores[\"Tarantino\"].extend([\"Perros de la Calle\",\"Kill Bill 1\"])"
   ]
  },
  {
   "cell_type": "code",
   "execution_count": 13,
   "metadata": {},
   "outputs": [
    {
     "name": "stdout",
     "output_type": "stream",
     "text": [
      "{'Spilberg': ['Indiana Jhones', 'Jurasic Park', 'Jurasic Park 2', 'indiana Jones 2'], 'Tarantino': ['Django', 'Pulp Fictuion', 'Perros de la Calle', 'Kill Bill 1']}\n"
     ]
    }
   ],
   "source": [
    "print(diccionario_directores)"
   ]
  },
  {
   "cell_type": "code",
   "execution_count": 16,
   "metadata": {},
   "outputs": [
    {
     "name": "stdout",
     "output_type": "stream",
     "text": [
      "['Indiana Jhones', 'Jurasic Park', 'Jurasic Park 2', 'indiana Jones 2']\n",
      "['Indiana Jhones', 'Jurasic Park', 'Jurasic Park 2']\n",
      "Django\n"
     ]
    }
   ],
   "source": [
    "print(diccionario_directores[\"Spilberg\"])\n",
    "diccionario_directores[\"Spilberg\"].pop()\n",
    "print(diccionario_directores[\"Spilberg\"])\n",
    "print(diccionario_directores[\"Tarantino\"][0])\n"
   ]
  }
 ],
 "metadata": {
  "kernelspec": {
   "display_name": "Python 3",
   "language": "python",
   "name": "python3"
  },
  "language_info": {
   "codemirror_mode": {
    "name": "ipython",
    "version": 3
   },
   "file_extension": ".py",
   "mimetype": "text/x-python",
   "name": "python",
   "nbconvert_exporter": "python",
   "pygments_lexer": "ipython3",
   "version": "3.13.0"
  }
 },
 "nbformat": 4,
 "nbformat_minor": 2
}
