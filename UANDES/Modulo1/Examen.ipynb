{
 "cells": [
  {
   "cell_type": "code",
   "execution_count": 1,
   "metadata": {},
   "outputs": [
    {
     "name": "stdout",
     "output_type": "stream",
     "text": [
      "15\n"
     ]
    }
   ],
   "source": [
    "lista = [0,2,4,6,8,10,12]\n",
    "\n",
    "suma = 0\n",
    "\n",
    "for e in lista:\n",
    "    if e < 5:\n",
    "        suma +=1\n",
    "    else:\n",
    "        suma += 3\n",
    "\n",
    "print(suma)\n"
   ]
  },
  {
   "cell_type": "code",
   "execution_count": 2,
   "metadata": {},
   "outputs": [
    {
     "name": "stdout",
     "output_type": "stream",
     "text": [
      "28\n"
     ]
    }
   ],
   "source": [
    "datos = {'nombre':'Ana', 'edad' : 28, 'ciudad':'Madrid'}\n",
    "clave = 'edad'\n",
    "\n",
    "if clave in datos:\n",
    "    resultado = datos[clave]\n",
    "else :\n",
    "    resultado =\"No encontrado\"\n",
    "\n",
    "print(resultado)"
   ]
  }
 ],
 "metadata": {
  "kernelspec": {
   "display_name": "Python 3",
   "language": "python",
   "name": "python3"
  },
  "language_info": {
   "codemirror_mode": {
    "name": "ipython",
    "version": 3
   },
   "file_extension": ".py",
   "mimetype": "text/x-python",
   "name": "python",
   "nbconvert_exporter": "python",
   "pygments_lexer": "ipython3",
   "version": "3.13.0"
  }
 },
 "nbformat": 4,
 "nbformat_minor": 2
}
