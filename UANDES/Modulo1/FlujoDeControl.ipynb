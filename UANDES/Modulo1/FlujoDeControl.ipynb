{
 "cells": [
  {
   "cell_type": "markdown",
   "metadata": {},
   "source": [
    "# Control de Flujo"
   ]
  },
  {
   "cell_type": "code",
   "execution_count": 4,
   "metadata": {},
   "outputs": [
    {
     "name": "stdout",
     "output_type": "stream",
     "text": [
      "adulto\n"
     ]
    }
   ],
   "source": [
    "edad  = 18\n",
    "\n",
    "if edad < 10:\n",
    "    print(\"niño\")\n",
    "\n",
    "elif 12 <= edad < 18:\n",
    "    print(\"adolescente\")\n",
    "\n",
    "else:\n",
    "    print(\"adulto\")"
   ]
  },
  {
   "cell_type": "markdown",
   "metadata": {},
   "source": [
    "### Operadores logicos\n",
    "AND\n",
    "OR\n",
    "NOT"
   ]
  },
  {
   "cell_type": "code",
   "execution_count": 5,
   "metadata": {},
   "outputs": [
    {
     "name": "stdout",
     "output_type": "stream",
     "text": [
      "adolescente\n"
     ]
    }
   ],
   "source": [
    "edad  = 13\n",
    "\n",
    "if edad < 10:\n",
    "    print(\"niño\")\n",
    "\n",
    "elif 12 <= edad and edad < 19:\n",
    "    print(\"adolescente\")\n",
    "\n",
    "else:\n",
    "    print(\"adulto\")"
   ]
  },
  {
   "cell_type": "code",
   "execution_count": 8,
   "metadata": {},
   "outputs": [
    {
     "name": "stdout",
     "output_type": "stream",
     "text": [
      "Felicidades el envío es gratuito\n"
     ]
    }
   ],
   "source": [
    "#Ejemplo\n",
    "\n",
    "monto_carrito = 60\n",
    "es_miembro_premium = False\n",
    "ubicacion_tienda = 'Ciudad A'\n",
    "ubicacion_cliente = 'Ciudad B'\n",
    "\n",
    "#es_miembro_premium = True\n",
    "#xubicacion_cliente = 'Ciudad A'\n",
    "\n",
    "if monto_carrito >50 and (es_miembro_premium or ubicacion_tienda == ubicacion_cliente):\n",
    "    print(\"Felicidades el envío es gratuito\")\n",
    "else:\n",
    "    print(\"el envío tiene un costo estandar\")\n"
   ]
  }
 ],
 "metadata": {
  "kernelspec": {
   "display_name": "Python 3",
   "language": "python",
   "name": "python3"
  },
  "language_info": {
   "codemirror_mode": {
    "name": "ipython",
    "version": 3
   },
   "file_extension": ".py",
   "mimetype": "text/x-python",
   "name": "python",
   "nbconvert_exporter": "python",
   "pygments_lexer": "ipython3",
   "version": "3.13.0"
  }
 },
 "nbformat": 4,
 "nbformat_minor": 2
}
