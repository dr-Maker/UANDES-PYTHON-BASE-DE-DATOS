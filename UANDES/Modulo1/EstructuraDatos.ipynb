{
 "cells": [
  {
   "cell_type": "markdown",
   "metadata": {},
   "source": [
    "## LISTAS \n",
    "almacenan datos en el orden que se agregan\n",
    "\n",
    "## DICCIONARIOS\n",
    "organizan los datos en una estrcutura de llave valor"
   ]
  },
  {
   "cell_type": "code",
   "execution_count": 2,
   "metadata": {},
   "outputs": [],
   "source": [
    "lista_supermercado = ['pan','aceite','bebida']\n",
    "\n",
    "diccionario_ruts = {\n",
    "                    12394845: 'pablo', \n",
    "                    19857453: 'julio'\n",
    "                    }"
   ]
  },
  {
   "cell_type": "markdown",
   "metadata": {},
   "source": [
    "## Buscar un nombre por valor por la llave"
   ]
  },
  {
   "cell_type": "code",
   "execution_count": 4,
   "metadata": {},
   "outputs": [
    {
     "data": {
      "text/plain": [
       "'pablo'"
      ]
     },
     "execution_count": 4,
     "metadata": {},
     "output_type": "execute_result"
    }
   ],
   "source": [
    "diccionario_ruts[12394845]"
   ]
  },
  {
   "cell_type": "markdown",
   "metadata": {},
   "source": [
    "## Modificando la estructura de datos e insertando datos"
   ]
  },
  {
   "cell_type": "code",
   "execution_count": 5,
   "metadata": {},
   "outputs": [
    {
     "name": "stdout",
     "output_type": "stream",
     "text": [
      "['pan', 'aceite', 'bebida', 'jugo']\n"
     ]
    }
   ],
   "source": [
    "lista_supermercado.append('jugo')\n",
    "print(lista_supermercado)"
   ]
  },
  {
   "cell_type": "code",
   "execution_count": 6,
   "metadata": {},
   "outputs": [
    {
     "name": "stdout",
     "output_type": "stream",
     "text": [
      "{12394845: 'pablo', 19857453: 'julio', 11333835: 'hugo'}\n"
     ]
    }
   ],
   "source": [
    "diccionario_ruts[11333835] = 'hugo'\n",
    "print(diccionario_ruts)"
   ]
  },
  {
   "cell_type": "markdown",
   "metadata": {},
   "source": [
    "## Metodos de lista\n",
    "<p> pop()\n",
    "<p> lista1.extend(lista2)"
   ]
  },
  {
   "cell_type": "code",
   "execution_count": 7,
   "metadata": {},
   "outputs": [
    {
     "name": "stdout",
     "output_type": "stream",
     "text": [
      "['pan', 'aceite']\n"
     ]
    }
   ],
   "source": [
    "# devolver un elemnto especifico de la lista y devolver ese elemento eliminado\n",
    "lista_supermercado = ['pan','aceite','bebidas']\n",
    "lista_supermercado.pop()\n",
    "print(lista_supermercado)"
   ]
  },
  {
   "cell_type": "code",
   "execution_count": 8,
   "metadata": {},
   "outputs": [
    {
     "name": "stdout",
     "output_type": "stream",
     "text": [
      "['pan', 'aceite', 'bebidas', 'jugos', 'cafe']\n"
     ]
    }
   ],
   "source": [
    "lista_super1 = ['pan','aceite','bebidas']\n",
    "lista_super2 = ['jugos','cafe']\n",
    "lista_super1.extend(lista_super2)\n",
    "print(lista_super1)\n"
   ]
  },
  {
   "cell_type": "markdown",
   "metadata": {},
   "source": [
    "## Metodos de diccionario\n",
    "<p> diccionario.get(key)\n",
    "<p> diccionario1.update(diccionario2)\n",
    "<p> diccionario.keys()\n",
    "<p> diccionario.values()"
   ]
  },
  {
   "cell_type": "code",
   "execution_count": 9,
   "metadata": {},
   "outputs": [
    {
     "name": "stdout",
     "output_type": "stream",
     "text": [
      "pablo\n"
     ]
    }
   ],
   "source": [
    "diccionario_rut = {12394845:'pablo', 19847453:'julio'}\n",
    "print(diccionario_rut.get(12394845))"
   ]
  },
  {
   "cell_type": "code",
   "execution_count": 10,
   "metadata": {},
   "outputs": [
    {
     "name": "stdout",
     "output_type": "stream",
     "text": [
      "{12394845: 'pablo', 19847453: 'julio', 19289348: 'manuel'}\n"
     ]
    }
   ],
   "source": [
    "diccionario_ruts_1 = {12394845:'pablo', 19847453:'julio'}\n",
    "diccionario_ruts_2 = {19289348:'manuel'}\n",
    "diccionario_ruts_1.update(diccionario_ruts_2)\n",
    "print(diccionario_ruts_1)"
   ]
  },
  {
   "cell_type": "code",
   "execution_count": 11,
   "metadata": {},
   "outputs": [
    {
     "data": {
      "text/plain": [
       "dict_keys([12394845, 19847453])"
      ]
     },
     "execution_count": 11,
     "metadata": {},
     "output_type": "execute_result"
    }
   ],
   "source": [
    "## trae todas las llaves del diccionario\n",
    "\n",
    "diccionario_ruts = {12394845:'pablo', 19847453:'julio'}\n",
    "diccionario_ruts.keys()"
   ]
  },
  {
   "cell_type": "code",
   "execution_count": 12,
   "metadata": {},
   "outputs": [
    {
     "data": {
      "text/plain": [
       "dict_values(['pablo', 'julio'])"
      ]
     },
     "execution_count": 12,
     "metadata": {},
     "output_type": "execute_result"
    }
   ],
   "source": [
    "## devuelve todas los valores del diccionario\n",
    "diccionario_ruts = {12394845:'pablo', 19847453:'julio'}\n",
    "diccionario_ruts.values()"
   ]
  },
  {
   "cell_type": "markdown",
   "metadata": {},
   "source": [
    "## TUPLA\n",
    "<p> Es una colección inmutable de elementos\n",
    "<p> Son útiles para almacenar datos que no deben cambiar durante el programa, como coordenadas o datos constatnes"
   ]
  },
  {
   "cell_type": "code",
   "execution_count": 13,
   "metadata": {},
   "outputs": [
    {
     "name": "stdout",
     "output_type": "stream",
     "text": [
      "(1, 2, 3, 4, 5)\n",
      "<class 'tuple'>\n"
     ]
    }
   ],
   "source": [
    "## Tuplas\n",
    "tupla = (1,2,3,4,5)\n",
    "print(tupla)\n",
    "print(type(tupla))"
   ]
  },
  {
   "cell_type": "markdown",
   "metadata": {},
   "source": [
    "## SET\n",
    "Colecciones ordenadas de elementos unicos, no permiten valores duplicados, útiles cuando cada elemento en el conjunto de datos sea único "
   ]
  },
  {
   "cell_type": "code",
   "execution_count": 15,
   "metadata": {},
   "outputs": [
    {
     "name": "stdout",
     "output_type": "stream",
     "text": [
      "<class 'set'>\n"
     ]
    },
    {
     "data": {
      "text/plain": [
       "{1, 2, 3, 4, 5}"
      ]
     },
     "execution_count": 15,
     "metadata": {},
     "output_type": "execute_result"
    }
   ],
   "source": [
    "lista = [1,1,2,3,4,4,5]\n",
    "print(type(set(lista)))\n",
    "set(lista)\n",
    "\n"
   ]
  }
 ],
 "metadata": {
  "kernelspec": {
   "display_name": "Python 3",
   "language": "python",
   "name": "python3"
  },
  "language_info": {
   "codemirror_mode": {
    "name": "ipython",
    "version": 3
   },
   "file_extension": ".py",
   "mimetype": "text/x-python",
   "name": "python",
   "nbconvert_exporter": "python",
   "pygments_lexer": "ipython3",
   "version": "3.13.0"
  }
 },
 "nbformat": 4,
 "nbformat_minor": 2
}
