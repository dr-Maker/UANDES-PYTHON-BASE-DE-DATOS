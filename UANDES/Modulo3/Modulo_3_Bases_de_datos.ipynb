{
 "cells": [
  {
   "cell_type": "markdown",
   "metadata": {
    "id": "Dz6gDli7Zndv"
   },
   "source": [
    "# Módulo 3: Bases de Datos\n",
    "\n"
   ]
  },
  {
   "cell_type": "markdown",
   "metadata": {
    "id": "JZH8DezPG2JH"
   },
   "source": [
    "## PARTE 1\n",
    "\n",
    "En esta actividad veremos las consultas y comandos básicos de SQL:\n",
    "- Crear tablas definiendo tipos de atributos, llaves primarias y llaves foráneas.\n",
    "- Insertar datos.\n",
    "- Modificar datos.\n",
    "- Buscar datos."
   ]
  },
  {
   "cell_type": "markdown",
   "metadata": {
    "id": "rGGb9Z58znl3"
   },
   "source": [
    "ejecutamos extension para usar base de datos SQLITE"
   ]
  },
  {
   "cell_type": "code",
   "execution_count": null,
   "metadata": {
    "colab": {
     "base_uri": "https://localhost:8080/"
    },
    "id": "DLKXhLznGQwU",
    "outputId": "edac9a7f-2552-48d6-9b90-63d7ce2e4145"
   },
   "outputs": [
    {
     "name": "stdout",
     "output_type": "stream",
     "text": [
      "Collecting SQLAlchemy==1.4.46\n",
      "  Downloading SQLAlchemy-1.4.46-cp310-cp310-manylinux_2_5_x86_64.manylinux1_x86_64.manylinux_2_17_x86_64.manylinux2014_x86_64.whl (1.6 MB)\n",
      "\u001b[2K     \u001b[90m━━━━━━━━━━━━━━━━━━━━━━━━━━━━━━━━━━━━━━━━\u001b[0m \u001b[32m1.6/1.6 MB\u001b[0m \u001b[31m6.0 MB/s\u001b[0m eta \u001b[36m0:00:00\u001b[0m\n",
      "\u001b[?25hRequirement already satisfied: greenlet!=0.4.17 in /usr/local/lib/python3.10/dist-packages (from SQLAlchemy==1.4.46) (2.0.2)\n",
      "Installing collected packages: SQLAlchemy\n",
      "  Attempting uninstall: SQLAlchemy\n",
      "    Found existing installation: SQLAlchemy 2.0.19\n",
      "    Uninstalling SQLAlchemy-2.0.19:\n",
      "      Successfully uninstalled SQLAlchemy-2.0.19\n",
      "\u001b[31mERROR: pip's dependency resolver does not currently take into account all the packages that are installed. This behaviour is the source of the following dependency conflicts.\n",
      "ipython-sql 0.5.0 requires sqlalchemy>=2.0, but you have sqlalchemy 1.4.46 which is incompatible.\u001b[0m\u001b[31m\n",
      "\u001b[0mSuccessfully installed SQLAlchemy-1.4.46\n",
      "Collecting PyMySQL==1.0.2\n",
      "  Downloading PyMySQL-1.0.2-py3-none-any.whl (43 kB)\n",
      "\u001b[2K     \u001b[90m━━━━━━━━━━━━━━━━━━━━━━━━━━━━━━━━━━━━━━━━\u001b[0m \u001b[32m43.8/43.8 kB\u001b[0m \u001b[31m1.1 MB/s\u001b[0m eta \u001b[36m0:00:00\u001b[0m\n",
      "\u001b[?25hInstalling collected packages: PyMySQL\n",
      "Successfully installed PyMySQL-1.0.2\n",
      "Collecting ipython-sql==0.4.1\n",
      "  Downloading ipython_sql-0.4.1-py3-none-any.whl (21 kB)\n",
      "Collecting prettytable<1 (from ipython-sql==0.4.1)\n",
      "  Downloading prettytable-0.7.2.zip (28 kB)\n",
      "  Preparing metadata (setup.py) ... \u001b[?25l\u001b[?25hdone\n",
      "Requirement already satisfied: ipython>=1.0 in /usr/local/lib/python3.10/dist-packages (from ipython-sql==0.4.1) (7.34.0)\n",
      "Requirement already satisfied: sqlalchemy>=0.6.7 in /usr/local/lib/python3.10/dist-packages (from ipython-sql==0.4.1) (1.4.46)\n",
      "Requirement already satisfied: sqlparse in /usr/local/lib/python3.10/dist-packages (from ipython-sql==0.4.1) (0.4.4)\n",
      "Requirement already satisfied: six in /usr/local/lib/python3.10/dist-packages (from ipython-sql==0.4.1) (1.16.0)\n",
      "Requirement already satisfied: ipython-genutils>=0.1.0 in /usr/local/lib/python3.10/dist-packages (from ipython-sql==0.4.1) (0.2.0)\n",
      "Requirement already satisfied: setuptools>=18.5 in /usr/local/lib/python3.10/dist-packages (from ipython>=1.0->ipython-sql==0.4.1) (67.7.2)\n",
      "Collecting jedi>=0.16 (from ipython>=1.0->ipython-sql==0.4.1)\n",
      "  Downloading jedi-0.19.0-py2.py3-none-any.whl (1.6 MB)\n",
      "\u001b[2K     \u001b[90m━━━━━━━━━━━━━━━━━━━━━━━━━━━━━━━━━━━━━━━━\u001b[0m \u001b[32m1.6/1.6 MB\u001b[0m \u001b[31m21.5 MB/s\u001b[0m eta \u001b[36m0:00:00\u001b[0m\n",
      "\u001b[?25hRequirement already satisfied: decorator in /usr/local/lib/python3.10/dist-packages (from ipython>=1.0->ipython-sql==0.4.1) (4.4.2)\n",
      "Requirement already satisfied: pickleshare in /usr/local/lib/python3.10/dist-packages (from ipython>=1.0->ipython-sql==0.4.1) (0.7.5)\n",
      "Requirement already satisfied: traitlets>=4.2 in /usr/local/lib/python3.10/dist-packages (from ipython>=1.0->ipython-sql==0.4.1) (5.7.1)\n",
      "Requirement already satisfied: prompt-toolkit!=3.0.0,!=3.0.1,<3.1.0,>=2.0.0 in /usr/local/lib/python3.10/dist-packages (from ipython>=1.0->ipython-sql==0.4.1) (3.0.39)\n",
      "Requirement already satisfied: pygments in /usr/local/lib/python3.10/dist-packages (from ipython>=1.0->ipython-sql==0.4.1) (2.16.1)\n",
      "Requirement already satisfied: backcall in /usr/local/lib/python3.10/dist-packages (from ipython>=1.0->ipython-sql==0.4.1) (0.2.0)\n",
      "Requirement already satisfied: matplotlib-inline in /usr/local/lib/python3.10/dist-packages (from ipython>=1.0->ipython-sql==0.4.1) (0.1.6)\n",
      "Requirement already satisfied: pexpect>4.3 in /usr/local/lib/python3.10/dist-packages (from ipython>=1.0->ipython-sql==0.4.1) (4.8.0)\n",
      "Requirement already satisfied: greenlet!=0.4.17 in /usr/local/lib/python3.10/dist-packages (from sqlalchemy>=0.6.7->ipython-sql==0.4.1) (2.0.2)\n",
      "Requirement already satisfied: parso<0.9.0,>=0.8.3 in /usr/local/lib/python3.10/dist-packages (from jedi>=0.16->ipython>=1.0->ipython-sql==0.4.1) (0.8.3)\n",
      "Requirement already satisfied: ptyprocess>=0.5 in /usr/local/lib/python3.10/dist-packages (from pexpect>4.3->ipython>=1.0->ipython-sql==0.4.1) (0.7.0)\n",
      "Requirement already satisfied: wcwidth in /usr/local/lib/python3.10/dist-packages (from prompt-toolkit!=3.0.0,!=3.0.1,<3.1.0,>=2.0.0->ipython>=1.0->ipython-sql==0.4.1) (0.2.6)\n",
      "Building wheels for collected packages: prettytable\n",
      "  Building wheel for prettytable (setup.py) ... \u001b[?25l\u001b[?25hdone\n",
      "  Created wheel for prettytable: filename=prettytable-0.7.2-py3-none-any.whl size=13694 sha256=9725e6e4312579cc41114efbc862af6598eafdc8db3f71c82ac7c0d13bf748bb\n",
      "  Stored in directory: /root/.cache/pip/wheels/25/4b/07/18c5d92824315576e478206ea69df34a9e31958f6143eb0e31\n",
      "Successfully built prettytable\n",
      "Installing collected packages: prettytable, jedi, ipython-sql\n",
      "  Attempting uninstall: prettytable\n",
      "    Found existing installation: prettytable 3.8.0\n",
      "    Uninstalling prettytable-3.8.0:\n",
      "      Successfully uninstalled prettytable-3.8.0\n",
      "  Attempting uninstall: ipython-sql\n",
      "    Found existing installation: ipython-sql 0.5.0\n",
      "    Uninstalling ipython-sql-0.5.0:\n",
      "      Successfully uninstalled ipython-sql-0.5.0\n",
      "Successfully installed ipython-sql-0.4.1 jedi-0.19.0 prettytable-0.7.2\n"
     ]
    }
   ],
   "source": [
    "!pip install SQLAlchemy==1.4.46\n",
    "!pip install PyMySQL==1.0.2\n",
    "!pip install ipython-sql==0.4.1"
   ]
  },
  {
   "cell_type": "code",
   "execution_count": null,
   "metadata": {
    "colab": {
     "base_uri": "https://localhost:8080/"
    },
    "id": "qDhDTaXrF1MB",
    "outputId": "a0555e3d-bf95-41e7-9cbb-f56132d41bed"
   },
   "outputs": [
    {
     "name": "stdout",
     "output_type": "stream",
     "text": [
      "The sql extension is already loaded. To reload it, use:\n",
      "  %reload_ext sql\n"
     ]
    }
   ],
   "source": [
    "# load the SQL magic extension\n",
    "# https://github.com/catherinedevlin/ipython-sql\n",
    "# this extension allows us to connect to DBs and issue SQL command\n",
    "%load_ext sql"
   ]
  },
  {
   "cell_type": "markdown",
   "metadata": {
    "id": "-y55UXOMzrcU"
   },
   "source": [
    "creamos base de datos de compras"
   ]
  },
  {
   "cell_type": "code",
   "execution_count": null,
   "metadata": {
    "id": "0uJJgyaC399w"
   },
   "outputs": [],
   "source": [
    "%%sql\n",
    "sqlite:///compras.db"
   ]
  },
  {
   "cell_type": "markdown",
   "metadata": {
    "id": "aRCxgzBIzvPF"
   },
   "source": [
    "Modelo relacional:\n",
    "\n",
    "- `Clientes(id INT PRIMARY KEY, nombre VARCHAR, edad INT)`\n",
    "- `Tiendas(id INT PRIMARY KEY, nombre VARCHAR, direccion VARCHAR, rubro VARCHAR)`\n",
    "- `Pedidos(pid INT PRIMARY KEY, id_cliente INT, id_tienda INT, fecha DATE,    monto INT , FOREIGN KEY (cid) references Clientes(id) , FOREIGN KEY (tid) REFERENCES Tiendas(id))`\n",
    "\n",
    "\n",
    "\n",
    "\n",
    "\n"
   ]
  },
  {
   "cell_type": "markdown",
   "metadata": {
    "id": "qo-ynpocG8GK"
   },
   "source": [
    "Crear tablas"
   ]
  },
  {
   "cell_type": "code",
   "execution_count": null,
   "metadata": {
    "colab": {
     "base_uri": "https://localhost:8080/"
    },
    "id": "UzqNSKAszxnl",
    "outputId": "06bbca5b-a5eb-461c-cb27-5dee1f9db28f"
   },
   "outputs": [
    {
     "name": "stdout",
     "output_type": "stream",
     "text": [
      " * sqlite:///compras.db\n",
      "Done.\n",
      "Done.\n",
      "Done.\n"
     ]
    },
    {
     "data": {
      "text/plain": [
       "[]"
      ]
     },
     "execution_count": 4,
     "metadata": {},
     "output_type": "execute_result"
    }
   ],
   "source": [
    "%%sql\n",
    "CREATE TABLE Clientes(cid INT PRIMARY KEY,\n",
    "                      nombre VARCHAR,\n",
    "                      edad INT);\n",
    "\n",
    "CREATE TABLE Tiendas(tid INT PRIMARY KEY,\n",
    "                     nombre VARCHAR,\n",
    "                     direccion VARCHAR,\n",
    "                     rubro VARCHAR);\n",
    "\n",
    "CREATE TABLE Pedidos(pid INT PRIMARY KEY,\n",
    "                     cid INT,\n",
    "                     tid INT,\n",
    "                     fecha DATE,\n",
    "                     monto INT,\n",
    "                     FOREIGN KEY (cid) REFERENCES Clientes(cid),\n",
    "                     FOREIGN KEY (tid) REFERENCES Tiendas(tid));\n"
   ]
  },
  {
   "cell_type": "markdown",
   "metadata": {
    "id": "CZ4NRbOSaQvt"
   },
   "source": [
    "Eliminar tablas"
   ]
  },
  {
   "cell_type": "code",
   "execution_count": null,
   "metadata": {
    "colab": {
     "base_uri": "https://localhost:8080/"
    },
    "id": "CiK1Qsn8KUow",
    "outputId": "ee65be2f-fd50-4a12-9cd2-8c92fe9c5d31"
   },
   "outputs": [
    {
     "name": "stdout",
     "output_type": "stream",
     "text": [
      " * sqlite:///compras.db\n",
      "Done.\n",
      "Done.\n",
      "Done.\n"
     ]
    },
    {
     "data": {
      "text/plain": [
       "[]"
      ]
     },
     "execution_count": 4,
     "metadata": {},
     "output_type": "execute_result"
    }
   ],
   "source": [
    "%%sql\n",
    "DROP TABLE Clientes;\n",
    "DROP TABLE Tiendas;\n",
    "DROP TABLE Pedidos;\n"
   ]
  },
  {
   "cell_type": "code",
   "execution_count": null,
   "metadata": {
    "colab": {
     "base_uri": "https://localhost:8080/",
     "height": 75
    },
    "id": "r24tMfe9HAwn",
    "outputId": "ad306e2d-f14f-4651-abba-b21fb5e5c875"
   },
   "outputs": [
    {
     "name": "stdout",
     "output_type": "stream",
     "text": [
      " * sqlite:///compras.db\n",
      "Done.\n"
     ]
    },
    {
     "data": {
      "text/html": [
       "<table>\n",
       "    <thead>\n",
       "        <tr>\n",
       "            <th>pid</th>\n",
       "            <th>cid</th>\n",
       "            <th>tid</th>\n",
       "            <th>fecha</th>\n",
       "            <th>monto</th>\n",
       "        </tr>\n",
       "    </thead>\n",
       "    <tbody>\n",
       "    </tbody>\n",
       "</table>"
      ],
      "text/plain": [
       "[]"
      ]
     },
     "execution_count": 19,
     "metadata": {},
     "output_type": "execute_result"
    }
   ],
   "source": [
    "%%sql\n",
    "SELECT * FROM Pedidos"
   ]
  },
  {
   "cell_type": "markdown",
   "metadata": {
    "id": "LRei6LdNY0fq"
   },
   "source": [
    "Vemos que nos da error porque la tabla Pedidos no existe dado que la acabamos de eliminar.  "
   ]
  },
  {
   "cell_type": "markdown",
   "metadata": {
    "id": "V90p71TeHBPe"
   },
   "source": [
    "Insertar datos en tablas"
   ]
  },
  {
   "cell_type": "code",
   "execution_count": null,
   "metadata": {
    "colab": {
     "base_uri": "https://localhost:8080/"
    },
    "id": "wghx8YLUHC-w",
    "outputId": "62a551a4-2fc8-4d78-e6de-4748f1bb756c"
   },
   "outputs": [
    {
     "name": "stdout",
     "output_type": "stream",
     "text": [
      " * sqlite:///compras.db\n",
      "1 rows affected.\n",
      "1 rows affected.\n",
      "1 rows affected.\n",
      "1 rows affected.\n",
      "1 rows affected.\n",
      "1 rows affected.\n",
      "1 rows affected.\n",
      "1 rows affected.\n",
      "1 rows affected.\n",
      "1 rows affected.\n",
      "1 rows affected.\n",
      "1 rows affected.\n",
      "1 rows affected.\n",
      "1 rows affected.\n",
      "1 rows affected.\n",
      "1 rows affected.\n",
      "1 rows affected.\n",
      "1 rows affected.\n",
      "1 rows affected.\n",
      "1 rows affected.\n",
      "1 rows affected.\n",
      "1 rows affected.\n",
      "1 rows affected.\n",
      "1 rows affected.\n",
      "1 rows affected.\n",
      "1 rows affected.\n"
     ]
    },
    {
     "data": {
      "text/plain": [
       "[]"
      ]
     },
     "execution_count": 20,
     "metadata": {},
     "output_type": "execute_result"
    }
   ],
   "source": [
    "%%sql\n",
    "\n",
    "INSERT INTO Clientes VALUES(23, 'Julio', 31);\n",
    "INSERT INTO Clientes VALUES(29, 'Felipe', 33);\n",
    "INSERT INTO Clientes VALUES(31, 'Arturo', 55);\n",
    "INSERT INTO Clientes VALUES(32, 'Pedro',  25);\n",
    "INSERT INTO Clientes VALUES(58, 'Oscar',  35);\n",
    "INSERT INTO Clientes VALUES(64, 'Isidora', 35);\n",
    "INSERT INTO Clientes VALUES(71, 'Pedro', 18);\n",
    "INSERT INTO Clientes VALUES(74, 'Isidora', 35);\n",
    "INSERT INTO Clientes VALUES(85, 'Rosa', 18);\n",
    "INSERT INTO Clientes VALUES(95, 'Roman', 63);\n",
    "\n",
    "INSERT INTO Tiendas VALUES(101, 'Pasteles Las Fatima', 'Grecia 2490' , 'Pasteleria');\n",
    "INSERT INTO Tiendas VALUES(102, 'Lider', 'Av Brasil 2213' , 'Supermercado');\n",
    "INSERT INTO Tiendas VALUES(103, 'Jumbo', 'Santo Domingo 1928' , 'Supermercado');\n",
    "INSERT INTO Tiendas VALUES(104, 'Apple', 'Camino el Alba 1023' , 'Tecnologia');\n",
    "INSERT INTO Tiendas VALUES(105, 'Apple', 'Las Tortolas 2839' , 'Tecnologia');\n",
    "INSERT INTO Tiendas VALUES(106, 'Pasteles Sur', 'Apoquindo 2233' , 'Pasteleria');\n",
    "\n",
    "\n",
    "INSERT INTO Pedidos VALUES(1, 23, 101, '2016-10-10', 25000);\n",
    "INSERT INTO Pedidos VALUES(2,23, 102, '2016-10-12', 20000);\n",
    "INSERT INTO Pedidos VALUES(3,23, 103, '2016-08-10', 3500);\n",
    "INSERT INTO Pedidos VALUES(4,23, 104, '2017-11-11', 9000);\n",
    "INSERT INTO Pedidos VALUES(5,31, 102, '2017-11-18', 1200);\n",
    "INSERT INTO Pedidos VALUES(6,31, 103, '2018-11-26', 23000);\n",
    "INSERT INTO Pedidos VALUES(7,31, 104, '2018-12-11', 9500);\n",
    "INSERT INTO Pedidos VALUES(8,64, 101, '2018-12-21', 9000);\n",
    "INSERT INTO Pedidos VALUES(9,64, 102, '2019-09-20', 2900);\n",
    "INSERT INTO Pedidos VALUES(10,74, 103, '2019-09-22', 1200);\n",
    "\n"
   ]
  },
  {
   "cell_type": "markdown",
   "metadata": {
    "id": "rRRrUEDxazHJ"
   },
   "source": [
    "Proyectamos los resultados"
   ]
  },
  {
   "cell_type": "code",
   "execution_count": null,
   "metadata": {
    "colab": {
     "base_uri": "https://localhost:8080/",
     "height": 287
    },
    "id": "uWcYHIWCazPe",
    "outputId": "5c6ec344-ed66-497c-e569-bd3e834fe773"
   },
   "outputs": [
    {
     "name": "stdout",
     "output_type": "stream",
     "text": [
      " * sqlite:///compras.db\n",
      "Done.\n"
     ]
    },
    {
     "data": {
      "text/html": [
       "<table>\n",
       "    <thead>\n",
       "        <tr>\n",
       "            <th>cid</th>\n",
       "            <th>nombre</th>\n",
       "            <th>edad</th>\n",
       "        </tr>\n",
       "    </thead>\n",
       "    <tbody>\n",
       "        <tr>\n",
       "            <td>23</td>\n",
       "            <td>Julio</td>\n",
       "            <td>31</td>\n",
       "        </tr>\n",
       "        <tr>\n",
       "            <td>29</td>\n",
       "            <td>Felipe</td>\n",
       "            <td>33</td>\n",
       "        </tr>\n",
       "        <tr>\n",
       "            <td>31</td>\n",
       "            <td>Arturo</td>\n",
       "            <td>55</td>\n",
       "        </tr>\n",
       "        <tr>\n",
       "            <td>32</td>\n",
       "            <td>Pedro</td>\n",
       "            <td>25</td>\n",
       "        </tr>\n",
       "        <tr>\n",
       "            <td>58</td>\n",
       "            <td>Oscar</td>\n",
       "            <td>35</td>\n",
       "        </tr>\n",
       "        <tr>\n",
       "            <td>64</td>\n",
       "            <td>Isidora</td>\n",
       "            <td>35</td>\n",
       "        </tr>\n",
       "        <tr>\n",
       "            <td>71</td>\n",
       "            <td>Pedro</td>\n",
       "            <td>18</td>\n",
       "        </tr>\n",
       "        <tr>\n",
       "            <td>74</td>\n",
       "            <td>Isidora</td>\n",
       "            <td>35</td>\n",
       "        </tr>\n",
       "        <tr>\n",
       "            <td>85</td>\n",
       "            <td>Rosa</td>\n",
       "            <td>18</td>\n",
       "        </tr>\n",
       "        <tr>\n",
       "            <td>95</td>\n",
       "            <td>Roman</td>\n",
       "            <td>63</td>\n",
       "        </tr>\n",
       "    </tbody>\n",
       "</table>"
      ],
      "text/plain": [
       "[(23, 'Julio', 31),\n",
       " (29, 'Felipe', 33),\n",
       " (31, 'Arturo', 55),\n",
       " (32, 'Pedro', 25),\n",
       " (58, 'Oscar', 35),\n",
       " (64, 'Isidora', 35),\n",
       " (71, 'Pedro', 18),\n",
       " (74, 'Isidora', 35),\n",
       " (85, 'Rosa', 18),\n",
       " (95, 'Roman', 63)]"
      ]
     },
     "execution_count": 21,
     "metadata": {},
     "output_type": "execute_result"
    }
   ],
   "source": [
    "%%sql\n",
    "SELECT * FROM Clientes"
   ]
  },
  {
   "cell_type": "code",
   "execution_count": null,
   "metadata": {
    "colab": {
     "base_uri": "https://localhost:8080/",
     "height": 202
    },
    "id": "5-7C5srda73-",
    "outputId": "7a130ed1-00cd-4b97-bf0d-cc15a63420ed"
   },
   "outputs": [
    {
     "name": "stdout",
     "output_type": "stream",
     "text": [
      " * sqlite:///compras.db\n",
      "Done.\n"
     ]
    },
    {
     "data": {
      "text/html": [
       "<table>\n",
       "    <thead>\n",
       "        <tr>\n",
       "            <th>tid</th>\n",
       "            <th>nombre</th>\n",
       "            <th>direccion</th>\n",
       "            <th>rubro</th>\n",
       "        </tr>\n",
       "    </thead>\n",
       "    <tbody>\n",
       "        <tr>\n",
       "            <td>101</td>\n",
       "            <td>Pasteles Las Fatima</td>\n",
       "            <td>Grecia 2490</td>\n",
       "            <td>Pasteleria</td>\n",
       "        </tr>\n",
       "        <tr>\n",
       "            <td>102</td>\n",
       "            <td>Lider</td>\n",
       "            <td>Av Brasil 2213</td>\n",
       "            <td>Supermercado</td>\n",
       "        </tr>\n",
       "        <tr>\n",
       "            <td>103</td>\n",
       "            <td>Jumbo</td>\n",
       "            <td>Santo Domingo 1928</td>\n",
       "            <td>Supermercado</td>\n",
       "        </tr>\n",
       "        <tr>\n",
       "            <td>104</td>\n",
       "            <td>Apple</td>\n",
       "            <td>Camino el Alba 1023</td>\n",
       "            <td>Tecnologia</td>\n",
       "        </tr>\n",
       "        <tr>\n",
       "            <td>105</td>\n",
       "            <td>Apple</td>\n",
       "            <td>Las Tortolas 2839</td>\n",
       "            <td>Tecnologia</td>\n",
       "        </tr>\n",
       "        <tr>\n",
       "            <td>106</td>\n",
       "            <td>Pasteles Sur</td>\n",
       "            <td>Apoquindo 2233</td>\n",
       "            <td>Pasteleria</td>\n",
       "        </tr>\n",
       "    </tbody>\n",
       "</table>"
      ],
      "text/plain": [
       "[(101, 'Pasteles Las Fatima', 'Grecia 2490', 'Pasteleria'),\n",
       " (102, 'Lider', 'Av Brasil 2213', 'Supermercado'),\n",
       " (103, 'Jumbo', 'Santo Domingo 1928', 'Supermercado'),\n",
       " (104, 'Apple', 'Camino el Alba 1023', 'Tecnologia'),\n",
       " (105, 'Apple', 'Las Tortolas 2839', 'Tecnologia'),\n",
       " (106, 'Pasteles Sur', 'Apoquindo 2233', 'Pasteleria')]"
      ]
     },
     "execution_count": 22,
     "metadata": {},
     "output_type": "execute_result"
    }
   ],
   "source": [
    "%%sql\n",
    "SELECT * FROM Tiendas"
   ]
  },
  {
   "cell_type": "code",
   "execution_count": null,
   "metadata": {
    "colab": {
     "base_uri": "https://localhost:8080/",
     "height": 287
    },
    "id": "cMcqkwy4a1kf",
    "outputId": "b14b09b0-3bb4-4437-a51f-068e684a2998"
   },
   "outputs": [
    {
     "name": "stdout",
     "output_type": "stream",
     "text": [
      " * sqlite:///compras.db\n",
      "Done.\n"
     ]
    },
    {
     "data": {
      "text/html": [
       "<table>\n",
       "    <thead>\n",
       "        <tr>\n",
       "            <th>pid</th>\n",
       "            <th>cid</th>\n",
       "            <th>tid</th>\n",
       "            <th>fecha</th>\n",
       "            <th>monto</th>\n",
       "        </tr>\n",
       "    </thead>\n",
       "    <tbody>\n",
       "        <tr>\n",
       "            <td>1</td>\n",
       "            <td>23</td>\n",
       "            <td>101</td>\n",
       "            <td>2016-10-10</td>\n",
       "            <td>25000</td>\n",
       "        </tr>\n",
       "        <tr>\n",
       "            <td>2</td>\n",
       "            <td>23</td>\n",
       "            <td>102</td>\n",
       "            <td>2016-10-12</td>\n",
       "            <td>20000</td>\n",
       "        </tr>\n",
       "        <tr>\n",
       "            <td>3</td>\n",
       "            <td>23</td>\n",
       "            <td>103</td>\n",
       "            <td>2016-08-10</td>\n",
       "            <td>3500</td>\n",
       "        </tr>\n",
       "        <tr>\n",
       "            <td>4</td>\n",
       "            <td>23</td>\n",
       "            <td>104</td>\n",
       "            <td>2017-11-11</td>\n",
       "            <td>9000</td>\n",
       "        </tr>\n",
       "        <tr>\n",
       "            <td>5</td>\n",
       "            <td>31</td>\n",
       "            <td>102</td>\n",
       "            <td>2017-11-18</td>\n",
       "            <td>1200</td>\n",
       "        </tr>\n",
       "        <tr>\n",
       "            <td>6</td>\n",
       "            <td>31</td>\n",
       "            <td>103</td>\n",
       "            <td>2018-11-26</td>\n",
       "            <td>23000</td>\n",
       "        </tr>\n",
       "        <tr>\n",
       "            <td>7</td>\n",
       "            <td>31</td>\n",
       "            <td>104</td>\n",
       "            <td>2018-12-11</td>\n",
       "            <td>9500</td>\n",
       "        </tr>\n",
       "        <tr>\n",
       "            <td>8</td>\n",
       "            <td>64</td>\n",
       "            <td>101</td>\n",
       "            <td>2018-12-21</td>\n",
       "            <td>9000</td>\n",
       "        </tr>\n",
       "        <tr>\n",
       "            <td>9</td>\n",
       "            <td>64</td>\n",
       "            <td>102</td>\n",
       "            <td>2019-09-20</td>\n",
       "            <td>2900</td>\n",
       "        </tr>\n",
       "        <tr>\n",
       "            <td>10</td>\n",
       "            <td>74</td>\n",
       "            <td>103</td>\n",
       "            <td>2019-09-22</td>\n",
       "            <td>1200</td>\n",
       "        </tr>\n",
       "    </tbody>\n",
       "</table>"
      ],
      "text/plain": [
       "[(1, 23, 101, '2016-10-10', 25000),\n",
       " (2, 23, 102, '2016-10-12', 20000),\n",
       " (3, 23, 103, '2016-08-10', 3500),\n",
       " (4, 23, 104, '2017-11-11', 9000),\n",
       " (5, 31, 102, '2017-11-18', 1200),\n",
       " (6, 31, 103, '2018-11-26', 23000),\n",
       " (7, 31, 104, '2018-12-11', 9500),\n",
       " (8, 64, 101, '2018-12-21', 9000),\n",
       " (9, 64, 102, '2019-09-20', 2900),\n",
       " (10, 74, 103, '2019-09-22', 1200)]"
      ]
     },
     "execution_count": 23,
     "metadata": {},
     "output_type": "execute_result"
    }
   ],
   "source": [
    "%%sql\n",
    "SELECT * FROM Pedidos"
   ]
  },
  {
   "cell_type": "markdown",
   "metadata": {
    "id": "IO30hB12HEVL"
   },
   "source": [
    "Modificar datos de tablas"
   ]
  },
  {
   "cell_type": "code",
   "execution_count": null,
   "metadata": {
    "colab": {
     "base_uri": "https://localhost:8080/"
    },
    "id": "s_CjobyIHFnP",
    "outputId": "fe20d523-8564-412b-a8e8-5b916dd44c2f"
   },
   "outputs": [
    {
     "name": "stdout",
     "output_type": "stream",
     "text": [
      " * sqlite:///compras.db\n",
      "1 rows affected.\n"
     ]
    },
    {
     "data": {
      "text/plain": [
       "[]"
      ]
     },
     "execution_count": 24,
     "metadata": {},
     "output_type": "execute_result"
    }
   ],
   "source": [
    "%%sql\n",
    "UPDATE Clientes SET edad = 32 WHERE nombre = 'Julio'\n"
   ]
  },
  {
   "cell_type": "code",
   "execution_count": null,
   "metadata": {
    "colab": {
     "base_uri": "https://localhost:8080/",
     "height": 97
    },
    "id": "CpcDVLkSHiO5",
    "outputId": "657b9c73-c838-4b96-bfb0-c592e7aab992"
   },
   "outputs": [
    {
     "name": "stdout",
     "output_type": "stream",
     "text": [
      " * sqlite:///compras.db\n",
      "Done.\n"
     ]
    },
    {
     "data": {
      "text/html": [
       "<table>\n",
       "    <thead>\n",
       "        <tr>\n",
       "            <th>cid</th>\n",
       "            <th>nombre</th>\n",
       "            <th>edad</th>\n",
       "        </tr>\n",
       "    </thead>\n",
       "    <tbody>\n",
       "        <tr>\n",
       "            <td>23</td>\n",
       "            <td>Julio</td>\n",
       "            <td>32</td>\n",
       "        </tr>\n",
       "    </tbody>\n",
       "</table>"
      ],
      "text/plain": [
       "[(23, 'Julio', 32)]"
      ]
     },
     "execution_count": 25,
     "metadata": {},
     "output_type": "execute_result"
    }
   ],
   "source": [
    "%%sql\n",
    "SELECT * FROM Clientes WHERE nombre = 'Julio'"
   ]
  },
  {
   "cell_type": "markdown",
   "metadata": {
    "id": "Kc0RZBuzHGEb"
   },
   "source": [
    "Consultar datos"
   ]
  },
  {
   "cell_type": "markdown",
   "metadata": {
    "id": "Rnm2hbcZHIm0"
   },
   "source": [
    "1. Nombre y edad de clientes mayores de 18 y menores de 40 años"
   ]
  },
  {
   "cell_type": "code",
   "execution_count": null,
   "metadata": {
    "colab": {
     "base_uri": "https://localhost:8080/",
     "height": 202
    },
    "id": "AfQTIVQrHHSy",
    "outputId": "1acd7f3c-8593-494e-a24d-b6906c656546"
   },
   "outputs": [
    {
     "name": "stdout",
     "output_type": "stream",
     "text": [
      " * sqlite:///compras.db\n",
      "Done.\n"
     ]
    },
    {
     "data": {
      "text/html": [
       "<table>\n",
       "    <thead>\n",
       "        <tr>\n",
       "            <th>nombre</th>\n",
       "            <th>edad</th>\n",
       "        </tr>\n",
       "    </thead>\n",
       "    <tbody>\n",
       "        <tr>\n",
       "            <td>Julio</td>\n",
       "            <td>32</td>\n",
       "        </tr>\n",
       "        <tr>\n",
       "            <td>Felipe</td>\n",
       "            <td>33</td>\n",
       "        </tr>\n",
       "        <tr>\n",
       "            <td>Pedro</td>\n",
       "            <td>25</td>\n",
       "        </tr>\n",
       "        <tr>\n",
       "            <td>Oscar</td>\n",
       "            <td>35</td>\n",
       "        </tr>\n",
       "        <tr>\n",
       "            <td>Isidora</td>\n",
       "            <td>35</td>\n",
       "        </tr>\n",
       "        <tr>\n",
       "            <td>Isidora</td>\n",
       "            <td>35</td>\n",
       "        </tr>\n",
       "    </tbody>\n",
       "</table>"
      ],
      "text/plain": [
       "[('Julio', 32),\n",
       " ('Felipe', 33),\n",
       " ('Pedro', 25),\n",
       " ('Oscar', 35),\n",
       " ('Isidora', 35),\n",
       " ('Isidora', 35)]"
      ]
     },
     "execution_count": 26,
     "metadata": {},
     "output_type": "execute_result"
    }
   ],
   "source": [
    "%%sql\n",
    "SELECT nombre, edad FROM Clientes WHERE edad > 18 AND edad < 40"
   ]
  },
  {
   "cell_type": "markdown",
   "metadata": {
    "id": "I8TInlYHHOsv"
   },
   "source": [
    "2. Nombre y direccion de tiendas que venden productos de tecnología"
   ]
  },
  {
   "cell_type": "code",
   "execution_count": null,
   "metadata": {
    "colab": {
     "base_uri": "https://localhost:8080/",
     "height": 117
    },
    "id": "CqwdEc7UHNq0",
    "outputId": "2b979dac-8265-4e36-90bc-aab7f478afa1"
   },
   "outputs": [
    {
     "name": "stdout",
     "output_type": "stream",
     "text": [
      " * sqlite:///compras.db\n",
      "Done.\n"
     ]
    },
    {
     "data": {
      "text/html": [
       "<table>\n",
       "    <thead>\n",
       "        <tr>\n",
       "            <th>nombre</th>\n",
       "            <th>direccion</th>\n",
       "        </tr>\n",
       "    </thead>\n",
       "    <tbody>\n",
       "        <tr>\n",
       "            <td>Apple</td>\n",
       "            <td>Camino el Alba 1023</td>\n",
       "        </tr>\n",
       "        <tr>\n",
       "            <td>Apple</td>\n",
       "            <td>Las Tortolas 2839</td>\n",
       "        </tr>\n",
       "    </tbody>\n",
       "</table>"
      ],
      "text/plain": [
       "[('Apple', 'Camino el Alba 1023'), ('Apple', 'Las Tortolas 2839')]"
      ]
     },
     "execution_count": 27,
     "metadata": {},
     "output_type": "execute_result"
    }
   ],
   "source": [
    "%%sql\n",
    "SELECT nombre, direccion FROM Tiendas WHERE rubro = 'Tecnologia'"
   ]
  },
  {
   "cell_type": "markdown",
   "metadata": {
    "id": "pOamxnKoHX3T"
   },
   "source": [
    "3. Toda la información de pedidos cuyo monto gastado sea mayor a $10,000 CLP"
   ]
  },
  {
   "cell_type": "code",
   "execution_count": null,
   "metadata": {
    "colab": {
     "base_uri": "https://localhost:8080/",
     "height": 139
    },
    "id": "5JTlrC9sHgSO",
    "outputId": "66ff48e9-cc72-4659-e174-9646fe22fa1e"
   },
   "outputs": [
    {
     "name": "stdout",
     "output_type": "stream",
     "text": [
      " * sqlite:///compras.db\n",
      "Done.\n"
     ]
    },
    {
     "data": {
      "text/html": [
       "<table>\n",
       "    <thead>\n",
       "        <tr>\n",
       "            <th>pid</th>\n",
       "            <th>cid</th>\n",
       "            <th>tid</th>\n",
       "            <th>fecha</th>\n",
       "            <th>monto</th>\n",
       "        </tr>\n",
       "    </thead>\n",
       "    <tbody>\n",
       "        <tr>\n",
       "            <td>1</td>\n",
       "            <td>23</td>\n",
       "            <td>101</td>\n",
       "            <td>2016-10-10</td>\n",
       "            <td>25000</td>\n",
       "        </tr>\n",
       "        <tr>\n",
       "            <td>2</td>\n",
       "            <td>23</td>\n",
       "            <td>102</td>\n",
       "            <td>2016-10-12</td>\n",
       "            <td>20000</td>\n",
       "        </tr>\n",
       "        <tr>\n",
       "            <td>6</td>\n",
       "            <td>31</td>\n",
       "            <td>103</td>\n",
       "            <td>2018-11-26</td>\n",
       "            <td>23000</td>\n",
       "        </tr>\n",
       "    </tbody>\n",
       "</table>"
      ],
      "text/plain": [
       "[(1, 23, 101, '2016-10-10', 25000),\n",
       " (2, 23, 102, '2016-10-12', 20000),\n",
       " (6, 31, 103, '2018-11-26', 23000)]"
      ]
     },
     "execution_count": 28,
     "metadata": {},
     "output_type": "execute_result"
    }
   ],
   "source": [
    "%%sql\n",
    "SELECT * FROM Pedidos WHERE monto > 10000"
   ]
  },
  {
   "cell_type": "markdown",
   "metadata": {
    "id": "UK8lsffXgzbu"
   },
   "source": [
    "## PARTE 2:\n",
    "- Reunion de tablas\n",
    "- Consultas agregadas\n"
   ]
  },
  {
   "cell_type": "markdown",
   "metadata": {
    "id": "uLQ2c3sxio_3"
   },
   "source": [
    "**Reunion** Nombres de clientes que han hecho alguna vez un pedido."
   ]
  },
  {
   "cell_type": "code",
   "execution_count": null,
   "metadata": {
    "colab": {
     "base_uri": "https://localhost:8080/",
     "height": 139
    },
    "id": "I_vTKnL7bkyf",
    "outputId": "7c87547f-960f-4bb8-f4d3-b71e7ce65f36"
   },
   "outputs": [
    {
     "name": "stdout",
     "output_type": "stream",
     "text": [
      " * sqlite:///compras.db\n",
      "Done.\n"
     ]
    },
    {
     "data": {
      "text/html": [
       "<table>\n",
       "    <thead>\n",
       "        <tr>\n",
       "            <th>nombre</th>\n",
       "        </tr>\n",
       "    </thead>\n",
       "    <tbody>\n",
       "        <tr>\n",
       "            <td>Julio</td>\n",
       "        </tr>\n",
       "        <tr>\n",
       "            <td>Arturo</td>\n",
       "        </tr>\n",
       "        <tr>\n",
       "            <td>Isidora</td>\n",
       "        </tr>\n",
       "    </tbody>\n",
       "</table>"
      ],
      "text/plain": [
       "[('Julio',), ('Arturo',), ('Isidora',)]"
      ]
     },
     "execution_count": 34,
     "metadata": {},
     "output_type": "execute_result"
    }
   ],
   "source": [
    "%%sql\n",
    "SELECT DISTINCT Clientes.nombre\n",
    "FROM Clientes, Pedidos\n",
    "WHERE Clientes.cid = Pedidos.cid\n"
   ]
  },
  {
   "cell_type": "markdown",
   "metadata": {
    "id": "jALfUrWkjBXa"
   },
   "source": [
    "**Auxiliar: STRFTIME** Monto promedio en pedidos por año  "
   ]
  },
  {
   "cell_type": "code",
   "execution_count": null,
   "metadata": {
    "colab": {
     "base_uri": "https://localhost:8080/",
     "height": 139
    },
    "id": "K6KKXY1ejBq2",
    "outputId": "9916219c-dc43-4ac7-d27f-0af4666933c5"
   },
   "outputs": [
    {
     "name": "stdout",
     "output_type": "stream",
     "text": [
      " * sqlite:///compras.db\n",
      "Done.\n"
     ]
    },
    {
     "data": {
      "text/html": [
       "<table>\n",
       "    <thead>\n",
       "        <tr>\n",
       "            <th>pid</th>\n",
       "            <th>cid</th>\n",
       "            <th>fecha</th>\n",
       "            <th>año</th>\n",
       "            <th>monto</th>\n",
       "        </tr>\n",
       "    </thead>\n",
       "    <tbody>\n",
       "        <tr>\n",
       "            <td>1</td>\n",
       "            <td>23</td>\n",
       "            <td>2016-10-10</td>\n",
       "            <td>2016</td>\n",
       "            <td>25000</td>\n",
       "        </tr>\n",
       "        <tr>\n",
       "            <td>2</td>\n",
       "            <td>23</td>\n",
       "            <td>2016-10-12</td>\n",
       "            <td>2016</td>\n",
       "            <td>20000</td>\n",
       "        </tr>\n",
       "        <tr>\n",
       "            <td>3</td>\n",
       "            <td>23</td>\n",
       "            <td>2016-08-10</td>\n",
       "            <td>2016</td>\n",
       "            <td>3500</td>\n",
       "        </tr>\n",
       "    </tbody>\n",
       "</table>"
      ],
      "text/plain": [
       "[(1, 23, '2016-10-10', '2016', 25000),\n",
       " (2, 23, '2016-10-12', '2016', 20000),\n",
       " (3, 23, '2016-08-10', '2016', 3500)]"
      ]
     },
     "execution_count": 35,
     "metadata": {},
     "output_type": "execute_result"
    }
   ],
   "source": [
    "%%sql\n",
    "SELECT pid, cid, fecha, strftime('%Y',fecha) as \"año\", monto\n",
    "FROM Pedidos\n",
    "WHERE año = '2016'\n"
   ]
  },
  {
   "cell_type": "markdown",
   "metadata": {
    "id": "p-99vKjOitt7"
   },
   "source": [
    "**Agregacion** Monto total vendido por año"
   ]
  },
  {
   "cell_type": "code",
   "execution_count": null,
   "metadata": {
    "colab": {
     "base_uri": "https://localhost:8080/",
     "height": 160
    },
    "id": "gsl7rgJroLts",
    "outputId": "204f003a-32d7-4abb-fbae-380c73864751"
   },
   "outputs": [
    {
     "name": "stdout",
     "output_type": "stream",
     "text": [
      " * sqlite:///compras.db\n",
      "Done.\n"
     ]
    },
    {
     "data": {
      "text/html": [
       "<table>\n",
       "    <thead>\n",
       "        <tr>\n",
       "            <th>año</th>\n",
       "            <th>AVG(monto)</th>\n",
       "        </tr>\n",
       "    </thead>\n",
       "    <tbody>\n",
       "        <tr>\n",
       "            <td>2016</td>\n",
       "            <td>16166.666666666666</td>\n",
       "        </tr>\n",
       "        <tr>\n",
       "            <td>2017</td>\n",
       "            <td>5100.0</td>\n",
       "        </tr>\n",
       "        <tr>\n",
       "            <td>2018</td>\n",
       "            <td>13833.333333333334</td>\n",
       "        </tr>\n",
       "        <tr>\n",
       "            <td>2019</td>\n",
       "            <td>2050.0</td>\n",
       "        </tr>\n",
       "    </tbody>\n",
       "</table>"
      ],
      "text/plain": [
       "[('2016', 16166.666666666666),\n",
       " ('2017', 5100.0),\n",
       " ('2018', 13833.333333333334),\n",
       " ('2019', 2050.0)]"
      ]
     },
     "execution_count": 36,
     "metadata": {},
     "output_type": "execute_result"
    }
   ],
   "source": [
    "%%sql\n",
    "SELECT strftime('%Y',fecha) as \"año\", AVG(monto)\n",
    "FROM Pedidos\n",
    "GROUP BY año\n"
   ]
  },
  {
   "cell_type": "markdown",
   "metadata": {
    "id": "jo6ZBY7noMhH"
   },
   "source": [
    "**Agregación** Año y total de ventas anuales que superen en total los $13.0000"
   ]
  },
  {
   "cell_type": "code",
   "execution_count": null,
   "metadata": {
    "colab": {
     "base_uri": "https://localhost:8080/",
     "height": 117
    },
    "id": "zXKdUZVZoMri",
    "outputId": "d4566902-7b3e-46af-de28-5249a37b829b"
   },
   "outputs": [
    {
     "name": "stdout",
     "output_type": "stream",
     "text": [
      " * sqlite:///compras.db\n",
      "Done.\n"
     ]
    },
    {
     "data": {
      "text/html": [
       "<table>\n",
       "    <thead>\n",
       "        <tr>\n",
       "            <th>año</th>\n",
       "            <th>AVG(monto)</th>\n",
       "        </tr>\n",
       "    </thead>\n",
       "    <tbody>\n",
       "        <tr>\n",
       "            <td>2016</td>\n",
       "            <td>16166.666666666666</td>\n",
       "        </tr>\n",
       "        <tr>\n",
       "            <td>2018</td>\n",
       "            <td>13833.333333333334</td>\n",
       "        </tr>\n",
       "    </tbody>\n",
       "</table>"
      ],
      "text/plain": [
       "[('2016', 16166.666666666666), ('2018', 13833.333333333334)]"
      ]
     },
     "execution_count": 37,
     "metadata": {},
     "output_type": "execute_result"
    }
   ],
   "source": [
    "%%sql\n",
    "SELECT strftime('%Y',fecha) as \"año\", AVG(monto)\n",
    "FROM Pedidos\n",
    "GROUP BY año\n",
    "HAVING AVG(monto) > 13000"
   ]
  },
  {
   "cell_type": "markdown",
   "metadata": {
    "id": "ux9sqpBLjK5Z"
   },
   "source": [
    "**Auxiliar LIKE:** Clientes cuya inicial sea \"J\""
   ]
  },
  {
   "cell_type": "code",
   "execution_count": null,
   "metadata": {
    "colab": {
     "base_uri": "https://localhost:8080/",
     "height": 97
    },
    "id": "XEOLTYG-jLOR",
    "outputId": "2c65467d-097c-429d-ae4d-11a99bb366f6"
   },
   "outputs": [
    {
     "name": "stdout",
     "output_type": "stream",
     "text": [
      " * sqlite:///compras.db\n",
      "Done.\n"
     ]
    },
    {
     "data": {
      "text/html": [
       "<table>\n",
       "    <thead>\n",
       "        <tr>\n",
       "            <th>nombre</th>\n",
       "        </tr>\n",
       "    </thead>\n",
       "    <tbody>\n",
       "        <tr>\n",
       "            <td>Julio</td>\n",
       "        </tr>\n",
       "    </tbody>\n",
       "</table>"
      ],
      "text/plain": [
       "[('Julio',)]"
      ]
     },
     "execution_count": 38,
     "metadata": {},
     "output_type": "execute_result"
    }
   ],
   "source": [
    "%%sql\n",
    "SELECT nombre\n",
    "FROM Clientes\n",
    "WHERE nombre LIKE 'J%'\n"
   ]
  },
  {
   "cell_type": "markdown",
   "metadata": {
    "id": "JW6-4bqjhB9v"
   },
   "source": [
    "## PARTE 3:\n",
    "Python y uso de cursores usando el mismo modelo relacional de antes"
   ]
  },
  {
   "cell_type": "code",
   "execution_count": 1,
   "metadata": {
    "id": "15DaMrSiv9H5"
   },
   "outputs": [],
   "source": [
    "import sqlite3"
   ]
  },
  {
   "cell_type": "code",
   "execution_count": 2,
   "metadata": {
    "id": "P42orly6v-gG"
   },
   "outputs": [],
   "source": [
    "con = sqlite3.connect(\":memory:\")"
   ]
  },
  {
   "cell_type": "code",
   "execution_count": 6,
   "metadata": {
    "id": "YBnS9t4txyWE"
   },
   "outputs": [],
   "source": [
    "cur = con.cursor()"
   ]
  },
  {
   "cell_type": "code",
   "execution_count": 4,
   "metadata": {
    "colab": {
     "base_uri": "https://localhost:8080/"
    },
    "id": "kJjE772KhE5A",
    "outputId": "59d68469-9b3d-4dd4-9089-e9b9b572fd70"
   },
   "outputs": [
    {
     "ename": "AttributeError",
     "evalue": "'sqlite3.Cursor' object has no attribute 'commit'",
     "output_type": "error",
     "traceback": [
      "\u001b[1;31m---------------------------------------------------------------------------\u001b[0m",
      "\u001b[1;31mAttributeError\u001b[0m                            Traceback (most recent call last)",
      "Cell \u001b[1;32mIn[4], line 36\u001b[0m\n\u001b[0;32m     31\u001b[0m cur\u001b[38;5;241m.\u001b[39mexecute(\u001b[38;5;124m\"\u001b[39m\u001b[38;5;124mINSERT INTO Pedidos VALUES(9,64, 102, \u001b[39m\u001b[38;5;124m'\u001b[39m\u001b[38;5;124m2019-09-20\u001b[39m\u001b[38;5;124m'\u001b[39m\u001b[38;5;124m, 2900);\u001b[39m\u001b[38;5;124m\"\u001b[39m)\n\u001b[0;32m     32\u001b[0m cur\u001b[38;5;241m.\u001b[39mexecute(\u001b[38;5;124m\"\u001b[39m\u001b[38;5;124mINSERT INTO Pedidos VALUES(10,74, 103, \u001b[39m\u001b[38;5;124m'\u001b[39m\u001b[38;5;124m2019-09-22\u001b[39m\u001b[38;5;124m'\u001b[39m\u001b[38;5;124m, 1200);\u001b[39m\u001b[38;5;124m\"\u001b[39m)\n\u001b[1;32m---> 36\u001b[0m \u001b[43mcur\u001b[49m\u001b[38;5;241;43m.\u001b[39;49m\u001b[43mcommit\u001b[49m()\n",
      "\u001b[1;31mAttributeError\u001b[0m: 'sqlite3.Cursor' object has no attribute 'commit'"
     ]
    }
   ],
   "source": [
    "cur.execute(\"CREATE TABLE Clientes(cid INT PRIMARY KEY, nombre VARCHAR, edad INT);\")\n",
    "cur.execute(\"CREATE TABLE Tiendas(tid INT PRIMARY KEY, nombre VARCHAR, direccion VARCHAR, rubro VARCHAR);\")\n",
    "cur.execute(\"CREATE TABLE Pedidos(pid INT PRIMARY KEY, cid INT, tid INT, fecha DATE, monto INT, FOREIGN KEY (cid) REFERENCES Clientes(cid), FOREIGN KEY (tid) REFERENCES Tiendas(tid));\")\n",
    "\n",
    "cur.execute(\"INSERT INTO Clientes VALUES(23, 'Julio', 31);\")\n",
    "cur.execute(\"INSERT INTO Clientes VALUES(29, 'Felipe', 33);\")\n",
    "cur.execute(\"INSERT INTO Clientes VALUES(31, 'Arturo', 55);\")\n",
    "cur.execute(\"INSERT INTO Clientes VALUES(32, 'Pedro',  25);\")\n",
    "cur.execute(\"INSERT INTO Clientes VALUES(58, 'Oscar',  35);\")\n",
    "cur.execute(\"INSERT INTO Clientes VALUES(64, 'Isidora', 35);\")\n",
    "cur.execute(\"INSERT INTO Clientes VALUES(71, 'Pedro', 18);\")\n",
    "cur.execute(\"INSERT INTO Clientes VALUES(74, 'Isidora', 35);\")\n",
    "cur.execute(\"INSERT INTO Clientes VALUES(85, 'Rosa', 18);\")\n",
    "cur.execute(\"INSERT INTO Clientes VALUES(95, 'Roman', 63);\")\n",
    "\n",
    "cur.execute(\"INSERT INTO Tiendas VALUES(101, 'Pasteles Las Fatima', 'Grecia 2490' , 'Pasteleria');\")\n",
    "cur.execute(\"INSERT INTO Tiendas VALUES(102, 'Lider', 'Av Brasil 2213' , 'Supermercado');\")\n",
    "cur.execute(\"INSERT INTO Tiendas VALUES(103, 'Jumbo', 'Santo Domingo 1928' , 'Supermercado');\")\n",
    "cur.execute(\"INSERT INTO Tiendas VALUES(104, 'Apple', 'Camino el Alba 1023' , 'Tecnologia');\")\n",
    "cur.execute(\"INSERT INTO Tiendas VALUES(105, 'Apple', 'Las Tortolas 2839' , 'Tecnologia');\")\n",
    "cur.execute(\"INSERT INTO Tiendas VALUES(106, 'Pasteles Sur', 'Apoquindo 2233' , 'Pasteleria');\")\n",
    "\n",
    "cur.execute(\"INSERT INTO Pedidos VALUES(1, 23, 101, '2016-10-10', 25000);\")\n",
    "cur.execute(\"INSERT INTO Pedidos VALUES(2,23, 102, '2016-10-12', 20000);\")\n",
    "cur.execute(\"INSERT INTO Pedidos VALUES(3,23, 103, '2016-08-10', 3500);\")\n",
    "cur.execute(\"INSERT INTO Pedidos VALUES(4,23, 104, '2017-11-11', 9000);\")\n",
    "cur.execute(\"INSERT INTO Pedidos VALUES(5,31, 102, '2017-11-18', 1200);\")\n",
    "cur.execute(\"INSERT INTO Pedidos VALUES(6,31, 103, '2018-11-26', 23000);\")\n",
    "cur.execute(\"INSERT INTO Pedidos VALUES(7,31, 104, '2018-12-11', 9500);\")\n",
    "cur.execute(\"INSERT INTO Pedidos VALUES(8,64, 101, '2018-12-21', 9000);\")\n",
    "cur.execute(\"INSERT INTO Pedidos VALUES(9,64, 102, '2019-09-20', 2900);\")\n",
    "cur.execute(\"INSERT INTO Pedidos VALUES(10,74, 103, '2019-09-22', 1200);\")\n",
    "\n",
    "\n",
    "\n",
    "cur.commit()\n",
    "\n",
    "\n",
    "\n",
    "\n"
   ]
  },
  {
   "cell_type": "code",
   "execution_count": null,
   "metadata": {
    "colab": {
     "base_uri": "https://localhost:8080/"
    },
    "id": "jsfwYhE5wZl1",
    "outputId": "0c113e2c-45b9-42cc-f9bc-09929d0bddf9"
   },
   "outputs": [
    {
     "name": "stdout",
     "output_type": "stream",
     "text": [
      "(23, 'Julio', 31)\n",
      "(29, 'Felipe', 33)\n",
      "(31, 'Arturo', 55)\n",
      "(32, 'Pedro', 25)\n",
      "(58, 'Oscar', 35)\n",
      "(64, 'Isidora', 35)\n",
      "(71, 'Pedro', 18)\n",
      "(74, 'Isidora', 35)\n",
      "(85, 'Rosa', 18)\n",
      "(95, 'Roman', 63)\n"
     ]
    }
   ],
   "source": [
    "query = cur.execute(\"SELECT * FROM Clientes\")\n",
    "\n",
    "for x in query:\n",
    "  print(x)\n"
   ]
  },
  {
   "cell_type": "markdown",
   "metadata": {
    "id": "gukytDaN7091"
   },
   "source": [
    "Insertar datos desde un diccionario de Python a la base de datos:"
   ]
  },
  {
   "cell_type": "code",
   "execution_count": null,
   "metadata": {
    "id": "W9c6G-w60zrj"
   },
   "outputs": [],
   "source": [
    "dict_tiendas = {'11200': {'nombre': 'Pasteles' , 'direccion': 'Calle 13', 'rubro': 'Pasteleria'},\n",
    "            '20220': {'nombre': 'Computadores', 'direccion': 'Calle 12' , 'rubro': 'Tecnologia'},\n",
    "            '30220': {'nombre': 'Albi', 'direccion': 'Calle 22' , 'rubro': 'Alimentacion'}\n",
    "            }\n",
    "\n",
    "\n",
    "for id_ in dict_tiendas:\n",
    "\n",
    "  nombre =  dict_tiendas[id_]['nombre']\n",
    "  direccion = dict_tiendas[id_]['direccion']\n",
    "  rubro = dict_tiendas[id_]['rubro']\n",
    "\n",
    "  cur.execute(f\"INSERT INTO Tiendas VALUES(?, ?,?,?);\", (id_, nombre, direccion, rubro))\n",
    "\n",
    "\n"
   ]
  },
  {
   "cell_type": "code",
   "execution_count": null,
   "metadata": {
    "colab": {
     "base_uri": "https://localhost:8080/"
    },
    "id": "NFt-EqCC7mcd",
    "outputId": "64b5a323-7a54-4b59-f40c-0db593b02bc0"
   },
   "outputs": [
    {
     "name": "stdout",
     "output_type": "stream",
     "text": [
      "(101, 'Pasteles Las Fatima', 'Grecia 2490', 'Pasteleria')\n",
      "(102, 'Lider', 'Av Brasil 2213', 'Supermercado')\n",
      "(103, 'Jumbo', 'Santo Domingo 1928', 'Supermercado')\n",
      "(104, 'Apple', 'Camino el Alba 1023', 'Tecnologia')\n",
      "(105, 'Apple', 'Las Tortolas 2839', 'Tecnologia')\n",
      "(106, 'Pasteles Sur', 'Apoquindo 2233', 'Pasteleria')\n",
      "(11200, 'Pasteles', 'Calle 13', 'Pasteleria')\n",
      "(20220, 'Computadores', 'Calle 12', 'Tecnologia')\n",
      "(30220, 'Albi', 'Calle 22', 'Alimentacion')\n"
     ]
    }
   ],
   "source": [
    "q = cur.execute(\"SELECT * FROM TIENDAS\")\n",
    "\n",
    "for x in q:\n",
    "  print(x)\n"
   ]
  },
  {
   "cell_type": "markdown",
   "metadata": {
    "id": "C9QXf61X0s4i"
   },
   "source": [
    "Ejemplo práctico: Input del usuario"
   ]
  },
  {
   "cell_type": "code",
   "execution_count": null,
   "metadata": {
    "colab": {
     "base_uri": "https://localhost:8080/"
    },
    "id": "ee3nyF8Cwe4x",
    "outputId": "2c39c7c6-5e31-4cd1-e859-0af15bd594f5"
   },
   "outputs": [
    {
     "name": "stdout",
     "output_type": "stream",
     "text": [
      "ingresa tu nombre: Miguel\n",
      "ingresa tu edad: 23\n"
     ]
    },
    {
     "data": {
      "text/plain": [
       "<sqlite3.Cursor at 0x7f99b068b8f0>"
      ]
     },
     "execution_count": 54,
     "metadata": {},
     "output_type": "execute_result"
    }
   ],
   "source": [
    "id_ = 1120\n",
    "nombre = input('ingresa tu nombre: ')\n",
    "edad = input('ingresa tu edad: ')\n",
    "\n",
    "cur.execute(\"INSERT INTO Clientes VALUES (?, ?, ?)\", (id_, nombre, edad))\n"
   ]
  },
  {
   "cell_type": "code",
   "execution_count": null,
   "metadata": {
    "colab": {
     "base_uri": "https://localhost:8080/"
    },
    "id": "FdOfpgQZ8qBf",
    "outputId": "f5e51097-8a09-4a38-c477-c1a843918d74"
   },
   "outputs": [
    {
     "name": "stdout",
     "output_type": "stream",
     "text": [
      "(23, 'Julio', 31)\n",
      "(29, 'Felipe', 33)\n",
      "(31, 'Arturo', 55)\n",
      "(32, 'Pedro', 25)\n",
      "(58, 'Oscar', 35)\n",
      "(64, 'Isidora', 35)\n",
      "(71, 'Pedro', 18)\n",
      "(74, 'Isidora', 35)\n",
      "(85, 'Rosa', 18)\n",
      "(95, 'Roman', 63)\n",
      "(1120, 'Miguel', 23)\n"
     ]
    }
   ],
   "source": [
    "q = cur.execute(\"SELECT * FROM Clientes\")\n",
    "\n",
    "for x in q:\n",
    "  print(x)"
   ]
  },
  {
   "cell_type": "code",
   "execution_count": null,
   "metadata": {
    "id": "akb7vSpzUhjU"
   },
   "outputs": [],
   "source": []
  }
 ],
 "metadata": {
  "colab": {
   "provenance": []
  },
  "kernelspec": {
   "display_name": "Python 3",
   "name": "python3"
  },
  "language_info": {
   "codemirror_mode": {
    "name": "ipython",
    "version": 3
   },
   "file_extension": ".py",
   "mimetype": "text/x-python",
   "name": "python",
   "nbconvert_exporter": "python",
   "pygments_lexer": "ipython3",
   "version": "3.13.0"
  }
 },
 "nbformat": 4,
 "nbformat_minor": 0
}
