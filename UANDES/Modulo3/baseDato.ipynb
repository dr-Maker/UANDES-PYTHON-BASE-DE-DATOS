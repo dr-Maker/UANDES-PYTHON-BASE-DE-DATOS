{
 "cells": [
  {
   "cell_type": "code",
   "execution_count": 1,
   "metadata": {},
   "outputs": [
    {
     "name": "stdout",
     "output_type": "stream",
     "text": [
      "Collecting SQLAlchemy==1.4.46Note: you may need to restart the kernel to use updated packages.\n"
     ]
    },
    {
     "name": "stderr",
     "output_type": "stream",
     "text": [
      "\n",
      "[notice] A new release of pip is available: 24.2 -> 24.3.1\n",
      "[notice] To update, run: python.exe -m pip install --upgrade pip\n"
     ]
    },
    {
     "name": "stdout",
     "output_type": "stream",
     "text": [
      "\n",
      "  Downloading SQLAlchemy-1.4.46.tar.gz (8.5 MB)\n",
      "     ---------------------------------------- 0.0/8.5 MB ? eta -:--:--\n",
      "     ---------------------------------------- 0.0/8.5 MB ? eta -:--:--\n",
      "     ---------------------------------------- 0.0/8.5 MB ? eta -:--:--\n",
      "     ---------------------------------------- 0.0/8.5 MB ? eta -:--:--\n",
      "     - -------------------------------------- 0.3/8.5 MB ? eta -:--:--\n",
      "     - -------------------------------------- 0.3/8.5 MB ? eta -:--:--\n",
      "     - -------------------------------------- 0.3/8.5 MB ? eta -:--:--\n",
      "     -- ------------------------------------- 0.5/8.5 MB 438.7 kB/s eta 0:00:19\n",
      "     -- ------------------------------------- 0.5/8.5 MB 438.7 kB/s eta 0:00:19\n",
      "     -- ------------------------------------- 0.5/8.5 MB 438.7 kB/s eta 0:00:19\n",
      "     --- ------------------------------------ 0.8/8.5 MB 418.6 kB/s eta 0:00:19\n",
      "     --- ------------------------------------ 0.8/8.5 MB 418.6 kB/s eta 0:00:19\n",
      "     ---- ----------------------------------- 1.0/8.5 MB 427.8 kB/s eta 0:00:18\n",
      "     ---- ----------------------------------- 1.0/8.5 MB 427.8 kB/s eta 0:00:18\n",
      "     ---- ----------------------------------- 1.0/8.5 MB 427.8 kB/s eta 0:00:18\n",
      "     ------ --------------------------------- 1.3/8.5 MB 440.6 kB/s eta 0:00:17\n",
      "     ------ --------------------------------- 1.3/8.5 MB 440.6 kB/s eta 0:00:17\n",
      "     ------- -------------------------------- 1.6/8.5 MB 459.3 kB/s eta 0:00:16\n",
      "     ------- -------------------------------- 1.6/8.5 MB 459.3 kB/s eta 0:00:16\n",
      "     ------- -------------------------------- 1.6/8.5 MB 459.3 kB/s eta 0:00:16\n",
      "     -------- ------------------------------- 1.8/8.5 MB 459.5 kB/s eta 0:00:15\n",
      "     -------- ------------------------------- 1.8/8.5 MB 459.5 kB/s eta 0:00:15\n",
      "     -------- ------------------------------- 1.8/8.5 MB 459.5 kB/s eta 0:00:15\n",
      "     --------- ------------------------------ 2.1/8.5 MB 456.4 kB/s eta 0:00:15\n",
      "     --------- ------------------------------ 2.1/8.5 MB 456.4 kB/s eta 0:00:15\n",
      "     ----------- ---------------------------- 2.4/8.5 MB 465.5 kB/s eta 0:00:14\n",
      "     ----------- ---------------------------- 2.4/8.5 MB 465.5 kB/s eta 0:00:14\n",
      "     ------------ --------------------------- 2.6/8.5 MB 468.2 kB/s eta 0:00:13\n",
      "     ------------ --------------------------- 2.6/8.5 MB 468.2 kB/s eta 0:00:13\n",
      "     ------------ --------------------------- 2.6/8.5 MB 468.2 kB/s eta 0:00:13\n",
      "     ------------- -------------------------- 2.9/8.5 MB 469.5 kB/s eta 0:00:13\n",
      "     ------------- -------------------------- 2.9/8.5 MB 469.5 kB/s eta 0:00:13\n",
      "     -------------- ------------------------- 3.1/8.5 MB 473.4 kB/s eta 0:00:12\n",
      "     -------------- ------------------------- 3.1/8.5 MB 473.4 kB/s eta 0:00:12\n",
      "     -------------- ------------------------- 3.1/8.5 MB 473.4 kB/s eta 0:00:12\n",
      "     --------------- ------------------------ 3.4/8.5 MB 475.0 kB/s eta 0:00:11\n",
      "     --------------- ------------------------ 3.4/8.5 MB 475.0 kB/s eta 0:00:11\n",
      "     --------------- ------------------------ 3.4/8.5 MB 475.0 kB/s eta 0:00:11\n",
      "     ----------------- ---------------------- 3.7/8.5 MB 463.8 kB/s eta 0:00:11\n",
      "     ----------------- ---------------------- 3.7/8.5 MB 463.8 kB/s eta 0:00:11\n",
      "     ----------------- ---------------------- 3.7/8.5 MB 463.8 kB/s eta 0:00:11\n",
      "     ------------------ --------------------- 3.9/8.5 MB 461.3 kB/s eta 0:00:10\n",
      "     ------------------ --------------------- 3.9/8.5 MB 461.3 kB/s eta 0:00:10\n",
      "     ------------------ --------------------- 3.9/8.5 MB 461.3 kB/s eta 0:00:10\n",
      "     ------------------- -------------------- 4.2/8.5 MB 457.9 kB/s eta 0:00:10\n",
      "     ------------------- -------------------- 4.2/8.5 MB 457.9 kB/s eta 0:00:10\n",
      "     ------------------- -------------------- 4.2/8.5 MB 457.9 kB/s eta 0:00:10\n",
      "     -------------------- ------------------- 4.5/8.5 MB 449.5 kB/s eta 0:00:10\n",
      "     -------------------- ------------------- 4.5/8.5 MB 449.5 kB/s eta 0:00:10\n",
      "     -------------------- ------------------- 4.5/8.5 MB 449.5 kB/s eta 0:00:10\n",
      "     ---------------------- ----------------- 4.7/8.5 MB 445.6 kB/s eta 0:00:09\n",
      "     ---------------------- ----------------- 4.7/8.5 MB 445.6 kB/s eta 0:00:09\n",
      "     ---------------------- ----------------- 4.7/8.5 MB 445.6 kB/s eta 0:00:09\n",
      "     ----------------------- ---------------- 5.0/8.5 MB 444.8 kB/s eta 0:00:09\n",
      "     ----------------------- ---------------- 5.0/8.5 MB 444.8 kB/s eta 0:00:09\n",
      "     ----------------------- ---------------- 5.0/8.5 MB 444.8 kB/s eta 0:00:09\n",
      "     ------------------------ --------------- 5.2/8.5 MB 441.9 kB/s eta 0:00:08\n",
      "     ------------------------ --------------- 5.2/8.5 MB 441.9 kB/s eta 0:00:08\n",
      "     ------------------------ --------------- 5.2/8.5 MB 441.9 kB/s eta 0:00:08\n",
      "     ------------------------ --------------- 5.2/8.5 MB 441.9 kB/s eta 0:00:08\n",
      "     ------------------------- -------------- 5.5/8.5 MB 436.9 kB/s eta 0:00:07\n",
      "     ------------------------- -------------- 5.5/8.5 MB 436.9 kB/s eta 0:00:07\n",
      "     ------------------------- -------------- 5.5/8.5 MB 436.9 kB/s eta 0:00:07\n",
      "     -------------------------- ------------- 5.8/8.5 MB 432.4 kB/s eta 0:00:07\n",
      "     -------------------------- ------------- 5.8/8.5 MB 432.4 kB/s eta 0:00:07\n",
      "     -------------------------- ------------- 5.8/8.5 MB 432.4 kB/s eta 0:00:07\n",
      "     ---------------------------- ----------- 6.0/8.5 MB 428.8 kB/s eta 0:00:06\n",
      "     ---------------------------- ----------- 6.0/8.5 MB 428.8 kB/s eta 0:00:06\n",
      "     ---------------------------- ----------- 6.0/8.5 MB 428.8 kB/s eta 0:00:06\n",
      "     ---------------------------- ----------- 6.0/8.5 MB 428.8 kB/s eta 0:00:06\n",
      "     ----------------------------- ---------- 6.3/8.5 MB 424.1 kB/s eta 0:00:06\n",
      "     ----------------------------- ---------- 6.3/8.5 MB 424.1 kB/s eta 0:00:06\n",
      "     ----------------------------- ---------- 6.3/8.5 MB 424.1 kB/s eta 0:00:06\n",
      "     ----------------------------- ---------- 6.3/8.5 MB 424.1 kB/s eta 0:00:06\n",
      "     ------------------------------ --------- 6.6/8.5 MB 416.2 kB/s eta 0:00:05\n",
      "     ------------------------------ --------- 6.6/8.5 MB 416.2 kB/s eta 0:00:05\n",
      "     ------------------------------ --------- 6.6/8.5 MB 416.2 kB/s eta 0:00:05\n",
      "     ------------------------------- -------- 6.8/8.5 MB 418.0 kB/s eta 0:00:05\n",
      "     ------------------------------- -------- 6.8/8.5 MB 418.0 kB/s eta 0:00:05\n",
      "     ------------------------------- -------- 6.8/8.5 MB 418.0 kB/s eta 0:00:05\n",
      "     --------------------------------- ------ 7.1/8.5 MB 415.6 kB/s eta 0:00:04\n",
      "     --------------------------------- ------ 7.1/8.5 MB 415.6 kB/s eta 0:00:04\n",
      "     --------------------------------- ------ 7.1/8.5 MB 415.6 kB/s eta 0:00:04\n",
      "     --------------------------------- ------ 7.1/8.5 MB 415.6 kB/s eta 0:00:04\n",
      "     ---------------------------------- ----- 7.3/8.5 MB 410.2 kB/s eta 0:00:03\n",
      "     ---------------------------------- ----- 7.3/8.5 MB 410.2 kB/s eta 0:00:03\n",
      "     ---------------------------------- ----- 7.3/8.5 MB 410.2 kB/s eta 0:00:03\n",
      "     ----------------------------------- ---- 7.6/8.5 MB 409.6 kB/s eta 0:00:03\n",
      "     ----------------------------------- ---- 7.6/8.5 MB 409.6 kB/s eta 0:00:03\n",
      "     ----------------------------------- ---- 7.6/8.5 MB 409.6 kB/s eta 0:00:03\n",
      "     ----------------------------------- ---- 7.6/8.5 MB 409.6 kB/s eta 0:00:03\n",
      "     ------------------------------------ --- 7.9/8.5 MB 405.2 kB/s eta 0:00:02\n",
      "     ------------------------------------ --- 7.9/8.5 MB 405.2 kB/s eta 0:00:02\n",
      "     ------------------------------------ --- 7.9/8.5 MB 405.2 kB/s eta 0:00:02\n",
      "     -------------------------------------- - 8.1/8.5 MB 404.7 kB/s eta 0:00:02\n",
      "     -------------------------------------- - 8.1/8.5 MB 404.7 kB/s eta 0:00:02\n",
      "     -------------------------------------- - 8.1/8.5 MB 404.7 kB/s eta 0:00:02\n",
      "     -------------------------------------- - 8.1/8.5 MB 404.7 kB/s eta 0:00:02\n",
      "     ---------------------------------------  8.4/8.5 MB 402.9 kB/s eta 0:00:01\n",
      "     ---------------------------------------  8.4/8.5 MB 402.9 kB/s eta 0:00:01\n",
      "     ---------------------------------------  8.4/8.5 MB 402.9 kB/s eta 0:00:01\n",
      "     ---------------------------------------  8.4/8.5 MB 402.9 kB/s eta 0:00:01\n",
      "     ---------------------------------------- 8.5/8.5 MB 391.2 kB/s eta 0:00:00\n",
      "  Installing build dependencies: started\n",
      "  Installing build dependencies: finished with status 'done'\n",
      "  Getting requirements to build wheel: started\n",
      "  Getting requirements to build wheel: finished with status 'done'\n",
      "  Preparing metadata (pyproject.toml): started\n",
      "  Preparing metadata (pyproject.toml): finished with status 'done'\n",
      "Collecting greenlet!=0.4.17 (from SQLAlchemy==1.4.46)\n",
      "  Downloading greenlet-3.1.1-cp313-cp313-win_amd64.whl.metadata (3.9 kB)\n",
      "Downloading greenlet-3.1.1-cp313-cp313-win_amd64.whl (299 kB)\n",
      "Building wheels for collected packages: SQLAlchemy\n",
      "  Building wheel for SQLAlchemy (pyproject.toml): started\n",
      "  Building wheel for SQLAlchemy (pyproject.toml): finished with status 'done'\n",
      "  Created wheel for SQLAlchemy: filename=SQLAlchemy-1.4.46-cp313-cp313-win_amd64.whl size=1545926 sha256=eb62a1ff34469dc66dd2794fc84a8215960a2dc190916197b2e6248a8953ac6a\n",
      "  Stored in directory: c:\\users\\socofin\\appdata\\local\\pip\\cache\\wheels\\ee\\0b\\6b\\3d4d8f65ace7e18eca88300fb57cd0e4bbbaeafc6d4d3ec4b4\n",
      "Successfully built SQLAlchemy\n",
      "Installing collected packages: greenlet, SQLAlchemy\n",
      "Successfully installed SQLAlchemy-1.4.46 greenlet-3.1.1\n"
     ]
    }
   ],
   "source": [
    "pip install SQLAlchemy==1.4.46"
   ]
  },
  {
   "cell_type": "code",
   "execution_count": 2,
   "metadata": {},
   "outputs": [
    {
     "name": "stdout",
     "output_type": "stream",
     "text": [
      "Collecting PyMySQL==1.0.2Note: you may need to restart the kernel to use updated packages.\n",
      "\n",
      "  Downloading PyMySQL-1.0.2-py3-none-any.whl.metadata (5.1 kB)\n",
      "Downloading PyMySQL-1.0.2-py3-none-any.whl (43 kB)\n",
      "Installing collected packages: PyMySQL\n",
      "Successfully installed PyMySQL-1.0.2\n"
     ]
    },
    {
     "name": "stderr",
     "output_type": "stream",
     "text": [
      "\n",
      "[notice] A new release of pip is available: 24.2 -> 24.3.1\n",
      "[notice] To update, run: python.exe -m pip install --upgrade pip\n"
     ]
    }
   ],
   "source": [
    "pip install PyMySQL==1.0.2"
   ]
  },
  {
   "cell_type": "code",
   "execution_count": 3,
   "metadata": {},
   "outputs": [
    {
     "name": "stdout",
     "output_type": "stream",
     "text": [
      "Collecting ipython-sql==0.4.1\n",
      "  Downloading ipython_sql-0.4.1-py3-none-any.whl.metadata (17 kB)\n",
      "Collecting prettytable<1 (from ipython-sql==0.4.1)\n",
      "  Downloading prettytable-0.7.2.zip (28 kB)\n",
      "  Installing build dependencies: started\n",
      "  Installing build dependencies: finished with status 'done'\n",
      "  Getting requirements to build wheel: started\n",
      "  Getting requirements to build wheel: finished with status 'done'\n",
      "  Preparing metadata (pyproject.toml): started\n",
      "  Preparing metadata (pyproject.toml): finished with status 'done'\n",
      "Requirement already satisfied: ipython>=1.0 in c:\\users\\socofin\\appdata\\roaming\\python\\python313\\site-packages (from ipython-sql==0.4.1) (8.28.0)\n",
      "Requirement already satisfied: sqlalchemy>=0.6.7 in c:\\users\\socofin\\appdata\\local\\programs\\python\\python313\\lib\\site-packages (from ipython-sql==0.4.1) (1.4.46)\n",
      "Collecting sqlparse (from ipython-sql==0.4.1)\n",
      "  Downloading sqlparse-0.5.1-py3-none-any.whl.metadata (3.9 kB)\n",
      "Requirement already satisfied: six in c:\\users\\socofin\\appdata\\roaming\\python\\python313\\site-packages (from ipython-sql==0.4.1) (1.16.0)\n",
      "Collecting ipython-genutils>=0.1.0 (from ipython-sql==0.4.1)\n",
      "  Downloading ipython_genutils-0.2.0-py2.py3-none-any.whl.metadata (755 bytes)\n",
      "Requirement already satisfied: decorator in c:\\users\\socofin\\appdata\\roaming\\python\\python313\\site-packages (from ipython>=1.0->ipython-sql==0.4.1) (5.1.1)\n",
      "Requirement already satisfied: jedi>=0.16 in c:\\users\\socofin\\appdata\\roaming\\python\\python313\\site-packages (from ipython>=1.0->ipython-sql==0.4.1) (0.19.1)\n",
      "Requirement already satisfied: matplotlib-inline in c:\\users\\socofin\\appdata\\roaming\\python\\python313\\site-packages (from ipython>=1.0->ipython-sql==0.4.1) (0.1.7)\n",
      "Requirement already satisfied: prompt-toolkit<3.1.0,>=3.0.41 in c:\\users\\socofin\\appdata\\roaming\\python\\python313\\site-packages (from ipython>=1.0->ipython-sql==0.4.1) (3.0.48)\n",
      "Requirement already satisfied: pygments>=2.4.0 in c:\\users\\socofin\\appdata\\roaming\\python\\python313\\site-packages (from ipython>=1.0->ipython-sql==0.4.1) (2.18.0)\n",
      "Requirement already satisfied: stack-data in c:\\users\\socofin\\appdata\\roaming\\python\\python313\\site-packages (from ipython>=1.0->ipython-sql==0.4.1) (0.6.3)\n",
      "Requirement already satisfied: traitlets>=5.13.0 in c:\\users\\socofin\\appdata\\roaming\\python\\python313\\site-packages (from ipython>=1.0->ipython-sql==0.4.1) (5.14.3)\n",
      "Requirement already satisfied: colorama in c:\\users\\socofin\\appdata\\roaming\\python\\python313\\site-packages (from ipython>=1.0->ipython-sql==0.4.1) (0.4.6)\n",
      "Requirement already satisfied: greenlet!=0.4.17 in c:\\users\\socofin\\appdata\\local\\programs\\python\\python313\\lib\\site-packages (from sqlalchemy>=0.6.7->ipython-sql==0.4.1) (3.1.1)\n",
      "Requirement already satisfied: parso<0.9.0,>=0.8.3 in c:\\users\\socofin\\appdata\\roaming\\python\\python313\\site-packages (from jedi>=0.16->ipython>=1.0->ipython-sql==0.4.1) (0.8.4)\n",
      "Requirement already satisfied: wcwidth in c:\\users\\socofin\\appdata\\roaming\\python\\python313\\site-packages (from prompt-toolkit<3.1.0,>=3.0.41->ipython>=1.0->ipython-sql==0.4.1) (0.2.13)\n",
      "Requirement already satisfied: executing>=1.2.0 in c:\\users\\socofin\\appdata\\roaming\\python\\python313\\site-packages (from stack-data->ipython>=1.0->ipython-sql==0.4.1) (2.1.0)\n",
      "Requirement already satisfied: asttokens>=2.1.0 in c:\\users\\socofin\\appdata\\roaming\\python\\python313\\site-packages (from stack-data->ipython>=1.0->ipython-sql==0.4.1) (2.4.1)\n",
      "Requirement already satisfied: pure-eval in c:\\users\\socofin\\appdata\\roaming\\python\\python313\\site-packages (from stack-data->ipython>=1.0->ipython-sql==0.4.1) (0.2.3)\n",
      "Downloading ipython_sql-0.4.1-py3-none-any.whl (21 kB)\n",
      "Downloading ipython_genutils-0.2.0-py2.py3-none-any.whl (26 kB)\n",
      "Downloading sqlparse-0.5.1-py3-none-any.whl (44 kB)\n",
      "Building wheels for collected packages: prettytable\n",
      "  Building wheel for prettytable (pyproject.toml): started\n",
      "  Building wheel for prettytable (pyproject.toml): finished with status 'done'\n",
      "  Created wheel for prettytable: filename=prettytable-0.7.2-py3-none-any.whl size=13705 sha256=a952c3a088f75bf1bd8427ecc0adab80e6e90a1f7d6db52bab1f0f762fffca4f\n",
      "  Stored in directory: c:\\users\\socofin\\appdata\\local\\pip\\cache\\wheels\\ab\\33\\17\\596fcc3828e23dd3e54118df5699ff0341a149cd621bd3e5da\n",
      "Successfully built prettytable\n",
      "Installing collected packages: prettytable, ipython-genutils, sqlparse, ipython-sql\n",
      "Successfully installed ipython-genutils-0.2.0 ipython-sql-0.4.1 prettytable-0.7.2 sqlparse-0.5.1\n",
      "Note: you may need to restart the kernel to use updated packages.\n"
     ]
    },
    {
     "name": "stderr",
     "output_type": "stream",
     "text": [
      "  WARNING: The script sqlformat.exe is installed in 'c:\\Users\\Socofin\\AppData\\Local\\Programs\\Python\\Python313\\Scripts' which is not on PATH.\n",
      "  Consider adding this directory to PATH or, if you prefer to suppress this warning, use --no-warn-script-location.\n",
      "\n",
      "[notice] A new release of pip is available: 24.2 -> 24.3.1\n",
      "[notice] To update, run: python.exe -m pip install --upgrade pip\n"
     ]
    }
   ],
   "source": [
    "pip install ipython-sql==0.4.1"
   ]
  },
  {
   "cell_type": "code",
   "execution_count": 4,
   "metadata": {},
   "outputs": [],
   "source": [
    "%load_ext sql"
   ]
  },
  {
   "cell_type": "code",
   "execution_count": 6,
   "metadata": {},
   "outputs": [
    {
     "data": {
      "text/plain": [
       "'Conected: @compras.db'"
      ]
     },
     "execution_count": 6,
     "metadata": {},
     "output_type": "execute_result"
    }
   ],
   "source": [
    "%sql sqlite:///compras.db\n",
    "'Conected: @compras.db'"
   ]
  },
  {
   "cell_type": "code",
   "execution_count": 32,
   "metadata": {},
   "outputs": [
    {
     "name": "stdout",
     "output_type": "stream",
     "text": [
      " * sqlite:///compras.db\n",
      "Done.\n",
      "Done.\n",
      "Done.\n"
     ]
    },
    {
     "data": {
      "text/plain": [
       "[]"
      ]
     },
     "execution_count": 32,
     "metadata": {},
     "output_type": "execute_result"
    }
   ],
   "source": [
    "%%sql\n",
    "CREATE TABLE Clientes(  cid INT PRIMARY KEY,\n",
    "                        nombre VARCHAR,\n",
    "                        edad INT\n",
    "                        );\n",
    "CREATE TABLE Tiendas(  tid INT PRIMARY KEY,\n",
    "                        nombre VARCHAR,\n",
    "                        direccion VARCHAR,\n",
    "                        rubro VARCHAR\n",
    "                        );\n",
    "\n",
    "CREATE TABLE Pedidos(  pid INT PRIMARY KEY,\n",
    "                        cid INT,\n",
    "                        tid INT,\n",
    "                        fecha DATE,\n",
    "                        monto INT,\n",
    "                        FOREIGN KEY (cid) REFERENCES Clientes(cid),\n",
    "                        FOREIGN KEY (tid) REFERENCES Tiendas(tid)\n",
    "                        );"
   ]
  },
  {
   "cell_type": "code",
   "execution_count": 31,
   "metadata": {},
   "outputs": [
    {
     "name": "stdout",
     "output_type": "stream",
     "text": [
      " * sqlite:///compras.db\n",
      "Done.\n",
      "Done.\n",
      "Done.\n"
     ]
    },
    {
     "data": {
      "text/plain": [
       "[]"
      ]
     },
     "execution_count": 31,
     "metadata": {},
     "output_type": "execute_result"
    }
   ],
   "source": [
    "%%sql\n",
    "DROP TABLE Clientes;\n",
    "DROP TABLE Tiendas;\n",
    "DROP TABLE Pedidos;"
   ]
  },
  {
   "cell_type": "code",
   "execution_count": 33,
   "metadata": {},
   "outputs": [
    {
     "name": "stdout",
     "output_type": "stream",
     "text": [
      " * sqlite:///compras.db\n",
      "1 rows affected.\n",
      "1 rows affected.\n",
      "1 rows affected.\n",
      "1 rows affected.\n",
      "1 rows affected.\n",
      "1 rows affected.\n",
      "1 rows affected.\n",
      "1 rows affected.\n",
      "1 rows affected.\n",
      "1 rows affected.\n"
     ]
    },
    {
     "data": {
      "text/plain": [
       "[]"
      ]
     },
     "execution_count": 33,
     "metadata": {},
     "output_type": "execute_result"
    }
   ],
   "source": [
    "%%sql\n",
    "INSERT INTO Clientes VALUES(23, 'Julio',31);\n",
    "INSERT INTO Clientes VALUES(29, 'Felipe',33);\n",
    "INSERT INTO Clientes VALUES(31, 'Arturo',55);\n",
    "INSERT INTO Clientes VALUES(32, 'Pedro',25);\n",
    "INSERT INTO Clientes VALUES(58, 'Oscar',35);\n",
    "INSERT INTO Clientes VALUES(64, 'Isidora',35);\n",
    "INSERT INTO Clientes VALUES(71, 'Pedro',18);\n",
    "INSERT INTO Clientes VALUES(74, 'Isidora',35);\n",
    "INSERT INTO Clientes VALUES(85, 'Rosa',18);\n",
    "INSERT INTO Clientes VALUES(95, 'Roman',63);"
   ]
  },
  {
   "cell_type": "code",
   "execution_count": 34,
   "metadata": {},
   "outputs": [
    {
     "name": "stdout",
     "output_type": "stream",
     "text": [
      " * sqlite:///compras.db\n",
      "1 rows affected.\n",
      "1 rows affected.\n",
      "1 rows affected.\n",
      "1 rows affected.\n",
      "1 rows affected.\n",
      "1 rows affected.\n"
     ]
    },
    {
     "data": {
      "text/plain": [
       "[]"
      ]
     },
     "execution_count": 34,
     "metadata": {},
     "output_type": "execute_result"
    }
   ],
   "source": [
    "%%sql\n",
    "INSERT INTO Tiendas VALUES(101,'Pasteles Las Fatimas','Grecia 2490','Pasteleria');\n",
    "INSERT INTO Tiendas VALUES(102,'Lider','Av Brasil 2213','Supermercado');\n",
    "INSERT INTO Tiendas VALUES(103,'Jumbo','Santo Domingo 1928','Supermercado');\n",
    "INSERT INTO Tiendas VALUES(104,'Apple','Camino el Alba 1023','Tecnologia');\n",
    "INSERT INTO Tiendas VALUES(105,'Apple','Las Tortolas 2839','Tecnologia');\n",
    "INSERT INTO Tiendas VALUES(106,'Pasteles Sur','Apoquindo 2233','Pasteleria');"
   ]
  },
  {
   "cell_type": "code",
   "execution_count": 35,
   "metadata": {},
   "outputs": [
    {
     "name": "stdout",
     "output_type": "stream",
     "text": [
      " * sqlite:///compras.db\n",
      "1 rows affected.\n",
      "1 rows affected.\n",
      "1 rows affected.\n",
      "1 rows affected.\n",
      "1 rows affected.\n",
      "1 rows affected.\n",
      "1 rows affected.\n",
      "1 rows affected.\n",
      "1 rows affected.\n",
      "1 rows affected.\n"
     ]
    },
    {
     "data": {
      "text/plain": [
       "[]"
      ]
     },
     "execution_count": 35,
     "metadata": {},
     "output_type": "execute_result"
    }
   ],
   "source": [
    "%%sql\n",
    "INSERT INTO Pedidos VALUES(1,23,101,'2016-10-10',25000);\n",
    "INSERT INTO Pedidos VALUES(2,23,102,'2016-10-12',20000);\n",
    "INSERT INTO Pedidos VALUES(3,23,103,'2016-08-10',3500);\n",
    "INSERT INTO Pedidos VALUES(4,23,104,'2017-11-11',9000);\n",
    "INSERT INTO Pedidos VALUES(5,31,102,'2017-11-18',1200);\n",
    "INSERT INTO Pedidos VALUES(6,31,103,'2018-11-26',23000);\n",
    "INSERT INTO Pedidos VALUES(7,31,104,'2018-12-11',9500);\n",
    "INSERT INTO Pedidos VALUES(8,64,101,'2018-12-21',9000);\n",
    "INSERT INTO Pedidos VALUES(9,64,102,'2019-09-20',2900);\n",
    "INSERT INTO Pedidos VALUES(10,74,103,'2019-09-22',1200);"
   ]
  },
  {
   "cell_type": "code",
   "execution_count": 25,
   "metadata": {},
   "outputs": [
    {
     "name": "stdout",
     "output_type": "stream",
     "text": [
      " * sqlite:///compras.db\n",
      "1 rows affected.\n"
     ]
    },
    {
     "data": {
      "text/plain": [
       "[]"
      ]
     },
     "execution_count": 25,
     "metadata": {},
     "output_type": "execute_result"
    }
   ],
   "source": [
    "%%sql\n",
    "UPDATE Clientes Set edad = 32 Where nombre = 'Julio'"
   ]
  },
  {
   "cell_type": "code",
   "execution_count": 26,
   "metadata": {},
   "outputs": [
    {
     "name": "stdout",
     "output_type": "stream",
     "text": [
      " * sqlite:///compras.db\n",
      "Done.\n"
     ]
    },
    {
     "data": {
      "text/html": [
       "<table>\n",
       "    <tr>\n",
       "        <th>cid</th>\n",
       "        <th>nombre</th>\n",
       "        <th>edad</th>\n",
       "    </tr>\n",
       "    <tr>\n",
       "        <td>23</td>\n",
       "        <td>Julio</td>\n",
       "        <td>32</td>\n",
       "    </tr>\n",
       "    <tr>\n",
       "        <td>29</td>\n",
       "        <td>Felipe</td>\n",
       "        <td>33</td>\n",
       "    </tr>\n",
       "    <tr>\n",
       "        <td>31</td>\n",
       "        <td>Arturo</td>\n",
       "        <td>55</td>\n",
       "    </tr>\n",
       "    <tr>\n",
       "        <td>32</td>\n",
       "        <td>Pedro</td>\n",
       "        <td>25</td>\n",
       "    </tr>\n",
       "    <tr>\n",
       "        <td>58</td>\n",
       "        <td>Oscar</td>\n",
       "        <td>35</td>\n",
       "    </tr>\n",
       "    <tr>\n",
       "        <td>64</td>\n",
       "        <td>Isidora</td>\n",
       "        <td>35</td>\n",
       "    </tr>\n",
       "    <tr>\n",
       "        <td>71</td>\n",
       "        <td>Pedro</td>\n",
       "        <td>18</td>\n",
       "    </tr>\n",
       "    <tr>\n",
       "        <td>74</td>\n",
       "        <td>Isidora</td>\n",
       "        <td>35</td>\n",
       "    </tr>\n",
       "    <tr>\n",
       "        <td>85</td>\n",
       "        <td>Rosa</td>\n",
       "        <td>18</td>\n",
       "    </tr>\n",
       "    <tr>\n",
       "        <td>95</td>\n",
       "        <td>Roman</td>\n",
       "        <td>63</td>\n",
       "    </tr>\n",
       "</table>"
      ],
      "text/plain": [
       "[(23, 'Julio', 32),\n",
       " (29, 'Felipe', 33),\n",
       " (31, 'Arturo', 55),\n",
       " (32, 'Pedro', 25),\n",
       " (58, 'Oscar', 35),\n",
       " (64, 'Isidora', 35),\n",
       " (71, 'Pedro', 18),\n",
       " (74, 'Isidora', 35),\n",
       " (85, 'Rosa', 18),\n",
       " (95, 'Roman', 63)]"
      ]
     },
     "execution_count": 26,
     "metadata": {},
     "output_type": "execute_result"
    }
   ],
   "source": [
    "%%sql\n",
    "SELECT * FROM Clientes"
   ]
  },
  {
   "cell_type": "code",
   "execution_count": 29,
   "metadata": {},
   "outputs": [
    {
     "name": "stdout",
     "output_type": "stream",
     "text": [
      " * sqlite:///compras.db\n",
      "Done.\n"
     ]
    },
    {
     "data": {
      "text/html": [
       "<table>\n",
       "    <tr>\n",
       "        <th>nombre</th>\n",
       "        <th>direccion</th>\n",
       "    </tr>\n",
       "    <tr>\n",
       "        <td>Apple</td>\n",
       "        <td>Camino el Alba 1023</td>\n",
       "    </tr>\n",
       "    <tr>\n",
       "        <td>Apple</td>\n",
       "        <td>Las Tortolas 2839</td>\n",
       "    </tr>\n",
       "</table>"
      ],
      "text/plain": [
       "[('Apple', 'Camino el Alba 1023'), ('Apple', 'Las Tortolas 2839')]"
      ]
     },
     "execution_count": 29,
     "metadata": {},
     "output_type": "execute_result"
    }
   ],
   "source": [
    "%%sql\n",
    "SELECT nombre, direccion FROM Tiendas\n",
    "where rubro = 'Tecnologia'"
   ]
  },
  {
   "cell_type": "code",
   "execution_count": 36,
   "metadata": {},
   "outputs": [
    {
     "name": "stdout",
     "output_type": "stream",
     "text": [
      " * sqlite:///compras.db\n",
      "Done.\n"
     ]
    },
    {
     "data": {
      "text/html": [
       "<table>\n",
       "    <tr>\n",
       "        <th>pid</th>\n",
       "        <th>cid</th>\n",
       "        <th>tid</th>\n",
       "        <th>fecha</th>\n",
       "        <th>monto</th>\n",
       "    </tr>\n",
       "    <tr>\n",
       "        <td>1</td>\n",
       "        <td>23</td>\n",
       "        <td>101</td>\n",
       "        <td>2016-10-10</td>\n",
       "        <td>25000</td>\n",
       "    </tr>\n",
       "    <tr>\n",
       "        <td>2</td>\n",
       "        <td>23</td>\n",
       "        <td>102</td>\n",
       "        <td>2016-10-12</td>\n",
       "        <td>20000</td>\n",
       "    </tr>\n",
       "    <tr>\n",
       "        <td>6</td>\n",
       "        <td>31</td>\n",
       "        <td>103</td>\n",
       "        <td>2018-11-26</td>\n",
       "        <td>23000</td>\n",
       "    </tr>\n",
       "</table>"
      ],
      "text/plain": [
       "[(1, 23, 101, '2016-10-10', 25000),\n",
       " (2, 23, 102, '2016-10-12', 20000),\n",
       " (6, 31, 103, '2018-11-26', 23000)]"
      ]
     },
     "execution_count": 36,
     "metadata": {},
     "output_type": "execute_result"
    }
   ],
   "source": [
    "%%sql\n",
    "SELECT * FROM Pedidos\n",
    "where monto > 10000"
   ]
  },
  {
   "cell_type": "code",
   "execution_count": null,
   "metadata": {},
   "outputs": [],
   "source": []
  }
 ],
 "metadata": {
  "kernelspec": {
   "display_name": "Python 3",
   "language": "python",
   "name": "python3"
  },
  "language_info": {
   "codemirror_mode": {
    "name": "ipython",
    "version": 3
   },
   "file_extension": ".py",
   "mimetype": "text/x-python",
   "name": "python",
   "nbconvert_exporter": "python",
   "pygments_lexer": "ipython3",
   "version": "3.13.0"
  }
 },
 "nbformat": 4,
 "nbformat_minor": 2
}
