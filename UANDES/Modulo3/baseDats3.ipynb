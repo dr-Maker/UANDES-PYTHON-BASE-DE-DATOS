{
 "cells": [
  {
   "cell_type": "code",
   "execution_count": 1,
   "metadata": {},
   "outputs": [],
   "source": [
    "import sqlite3"
   ]
  },
  {
   "cell_type": "code",
   "execution_count": null,
   "metadata": {},
   "outputs": [],
   "source": [
    "#con = sqlite3.connect(\":memory:\")"
   ]
  },
  {
   "cell_type": "code",
   "execution_count": 5,
   "metadata": {},
   "outputs": [],
   "source": [
    "con = sqlite3.connect(\"compras.db\")"
   ]
  },
  {
   "cell_type": "code",
   "execution_count": 6,
   "metadata": {},
   "outputs": [],
   "source": [
    "cur = con.cursor()"
   ]
  },
  {
   "cell_type": "code",
   "execution_count": 7,
   "metadata": {},
   "outputs": [
    {
     "name": "stdout",
     "output_type": "stream",
     "text": [
      "(23, 'Julio', 31)\n",
      "(29, 'Felipe', 33)\n",
      "(31, 'Arturo', 55)\n",
      "(32, 'Pedro', 25)\n",
      "(58, 'Oscar', 35)\n",
      "(64, 'Isidora', 35)\n",
      "(71, 'Pedro', 18)\n",
      "(74, 'Isidora', 35)\n",
      "(85, 'Rosa', 18)\n",
      "(95, 'Roman', 63)\n"
     ]
    }
   ],
   "source": [
    "query = cur.execute(\"SELECT * FROM Clientes\")\n",
    "\n",
    "for x in query:\n",
    "  print(x)"
   ]
  }
 ],
 "metadata": {
  "kernelspec": {
   "display_name": "Python 3",
   "language": "python",
   "name": "python3"
  },
  "language_info": {
   "codemirror_mode": {
    "name": "ipython",
    "version": 3
   },
   "file_extension": ".py",
   "mimetype": "text/x-python",
   "name": "python",
   "nbconvert_exporter": "python",
   "pygments_lexer": "ipython3",
   "version": "3.13.0"
  }
 },
 "nbformat": 4,
 "nbformat_minor": 2
}
