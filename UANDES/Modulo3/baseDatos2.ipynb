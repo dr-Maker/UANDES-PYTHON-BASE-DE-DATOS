{
 "cells": [
  {
   "cell_type": "code",
   "execution_count": 1,
   "metadata": {},
   "outputs": [],
   "source": [
    "%load_ext sql"
   ]
  },
  {
   "cell_type": "code",
   "execution_count": 3,
   "metadata": {},
   "outputs": [],
   "source": [
    "%sql sqlite:///compras.db"
   ]
  },
  {
   "cell_type": "code",
   "execution_count": 12,
   "metadata": {},
   "outputs": [
    {
     "name": "stdout",
     "output_type": "stream",
     "text": [
      " * sqlite:///compras.db\n",
      "Done.\n"
     ]
    },
    {
     "data": {
      "text/html": [
       "<table>\n",
       "    <tr>\n",
       "        <th>nombre</th>\n",
       "    </tr>\n",
       "    <tr>\n",
       "        <td>Julio</td>\n",
       "    </tr>\n",
       "    <tr>\n",
       "        <td>Arturo</td>\n",
       "    </tr>\n",
       "</table>"
      ],
      "text/plain": [
       "[('Julio',), ('Arturo',)]"
      ]
     },
     "execution_count": 12,
     "metadata": {},
     "output_type": "execute_result"
    }
   ],
   "source": [
    "%%sql\n",
    "Select distinct Clientes.nombre\n",
    "From Clientes, Pedidos, Tiendas\n",
    "Where Clientes.cid = Pedidos.cid \n",
    "and\n",
    "Pedidos.tid = Tiendas.tid\n",
    "and\n",
    "Tiendas.rubro = 'Tecnologia'\n",
    "\n"
   ]
  },
  {
   "cell_type": "code",
   "execution_count": 13,
   "metadata": {},
   "outputs": [
    {
     "name": "stdout",
     "output_type": "stream",
     "text": [
      " * sqlite:///compras.db\n",
      "Done.\n"
     ]
    },
    {
     "data": {
      "text/html": [
       "<table>\n",
       "    <tr>\n",
       "        <th>pid</th>\n",
       "        <th>cid</th>\n",
       "        <th>fecha</th>\n",
       "        <th>año</th>\n",
       "        <th>monto</th>\n",
       "    </tr>\n",
       "    <tr>\n",
       "        <td>1</td>\n",
       "        <td>23</td>\n",
       "        <td>2016-10-10</td>\n",
       "        <td>2016</td>\n",
       "        <td>25000</td>\n",
       "    </tr>\n",
       "    <tr>\n",
       "        <td>2</td>\n",
       "        <td>23</td>\n",
       "        <td>2016-10-12</td>\n",
       "        <td>2016</td>\n",
       "        <td>20000</td>\n",
       "    </tr>\n",
       "    <tr>\n",
       "        <td>3</td>\n",
       "        <td>23</td>\n",
       "        <td>2016-08-10</td>\n",
       "        <td>2016</td>\n",
       "        <td>3500</td>\n",
       "    </tr>\n",
       "</table>"
      ],
      "text/plain": [
       "[(1, 23, '2016-10-10', '2016', 25000),\n",
       " (2, 23, '2016-10-12', '2016', 20000),\n",
       " (3, 23, '2016-08-10', '2016', 3500)]"
      ]
     },
     "execution_count": 13,
     "metadata": {},
     "output_type": "execute_result"
    }
   ],
   "source": [
    "%%sql\n",
    "Select pid,cid, fecha, strftime('%Y',fecha) as \"año\", monto\n",
    "from Pedidos\n",
    "Where año = '2016'"
   ]
  },
  {
   "cell_type": "code",
   "execution_count": 7,
   "metadata": {},
   "outputs": [
    {
     "name": "stdout",
     "output_type": "stream",
     "text": [
      " * sqlite:///compras.db\n",
      "Done.\n"
     ]
    },
    {
     "data": {
      "text/html": [
       "<table>\n",
       "    <tr>\n",
       "        <th>año</th>\n",
       "        <th>AVG(monto)</th>\n",
       "    </tr>\n",
       "    <tr>\n",
       "        <td>2016</td>\n",
       "        <td>16166.666666666666</td>\n",
       "    </tr>\n",
       "    <tr>\n",
       "        <td>2017</td>\n",
       "        <td>5100.0</td>\n",
       "    </tr>\n",
       "    <tr>\n",
       "        <td>2018</td>\n",
       "        <td>13833.333333333334</td>\n",
       "    </tr>\n",
       "    <tr>\n",
       "        <td>2019</td>\n",
       "        <td>2050.0</td>\n",
       "    </tr>\n",
       "</table>"
      ],
      "text/plain": [
       "[('2016', 16166.666666666666),\n",
       " ('2017', 5100.0),\n",
       " ('2018', 13833.333333333334),\n",
       " ('2019', 2050.0)]"
      ]
     },
     "execution_count": 7,
     "metadata": {},
     "output_type": "execute_result"
    }
   ],
   "source": [
    "%%sql\n",
    "Select strftime('%Y',fecha) as \"año\", AVG(monto)\n",
    "from Pedidos\n",
    "Group BY año"
   ]
  },
  {
   "cell_type": "code",
   "execution_count": null,
   "metadata": {},
   "outputs": [],
   "source": []
  }
 ],
 "metadata": {
  "kernelspec": {
   "display_name": "Python 3",
   "language": "python",
   "name": "python3"
  },
  "language_info": {
   "codemirror_mode": {
    "name": "ipython",
    "version": 3
   },
   "file_extension": ".py",
   "mimetype": "text/x-python",
   "name": "python",
   "nbconvert_exporter": "python",
   "pygments_lexer": "ipython3",
   "version": "3.13.0"
  }
 },
 "nbformat": 4,
 "nbformat_minor": 2
}
