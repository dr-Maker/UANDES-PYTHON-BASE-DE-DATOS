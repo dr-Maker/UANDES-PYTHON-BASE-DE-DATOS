{
 "cells": [
  {
   "cell_type": "markdown",
   "metadata": {},
   "source": [
    "# Libreria Pandas"
   ]
  },
  {
   "cell_type": "markdown",
   "metadata": {},
   "source": [
    "<p> Permite trabajar con una estructura de datos semejante a una tabla llamada DataFrame\n",
    "<ul>  \n",
    "    <li> Fila = row\n",
    "    <li>Columna = column"
   ]
  },
  {
   "cell_type": "code",
   "execution_count": 4,
   "metadata": {},
   "outputs": [
    {
     "name": "stdout",
     "output_type": "stream",
     "text": [
      "Collecting pandas\n",
      "  Downloading pandas-2.2.3-cp313-cp313-win_amd64.whl.metadata (19 kB)\n",
      "Collecting numpy>=1.26.0 (from pandas)\n",
      "  Downloading numpy-2.1.2-cp313-cp313-win_amd64.whl.metadata (59 kB)\n",
      "Requirement already satisfied: python-dateutil>=2.8.2 in c:\\users\\socofin\\appdata\\roaming\\python\\python313\\site-packages (from pandas) (2.9.0.post0)\n",
      "Collecting pytz>=2020.1 (from pandas)\n",
      "  Downloading pytz-2024.2-py2.py3-none-any.whl.metadata (22 kB)\n",
      "Collecting tzdata>=2022.7 (from pandas)\n",
      "  Downloading tzdata-2024.2-py2.py3-none-any.whl.metadata (1.4 kB)\n",
      "Requirement already satisfied: six>=1.5 in c:\\users\\socofin\\appdata\\roaming\\python\\python313\\site-packages (from python-dateutil>=2.8.2->pandas) (1.16.0)\n",
      "Downloading pandas-2.2.3-cp313-cp313-win_amd64.whl (11.5 MB)\n",
      "   ---------------------------------------- 0.0/11.5 MB ? eta -:--:--Note: you may need to restart the kernel to use updated packages.\n",
      "\n",
      "   ---------------------------------------- 0.0/11.5 MB ? eta -:--:--\n",
      "   ---------------------------------------- 0.0/11.5 MB ? eta -:--:--\n",
      "    --------------------------------------- 0.3/11.5 MB ? eta -:--:--\n",
      "    --------------------------------------- 0.3/11.5 MB ? eta -:--:--\n",
      "    --------------------------------------- 0.3/11.5 MB ? eta -:--:--\n",
      "   - -------------------------------------- 0.5/11.5 MB 429.2 kB/s eta 0:00:26\n",
      "   - -------------------------------------- 0.5/11.5 MB 429.2 kB/s eta 0:00:26\n",
      "   - -------------------------------------- 0.5/11.5 MB 429.2 kB/s eta 0:00:26\n",
      "   -- ------------------------------------- 0.8/11.5 MB 446.0 kB/s eta 0:00:24\n",
      "   -- ------------------------------------- 0.8/11.5 MB 446.0 kB/s eta 0:00:24\n",
      "   --- ------------------------------------ 1.0/11.5 MB 479.1 kB/s eta 0:00:22\n",
      "   --- ------------------------------------ 1.0/11.5 MB 479.1 kB/s eta 0:00:22\n",
      "   --- ------------------------------------ 1.0/11.5 MB 479.1 kB/s eta 0:00:22\n",
      "   ---- ----------------------------------- 1.3/11.5 MB 468.2 kB/s eta 0:00:22\n",
      "   ---- ----------------------------------- 1.3/11.5 MB 468.2 kB/s eta 0:00:22\n",
      "   ---- ----------------------------------- 1.3/11.5 MB 468.2 kB/s eta 0:00:22\n",
      "   ----- ---------------------------------- 1.6/11.5 MB 455.3 kB/s eta 0:00:22\n",
      "   ----- ---------------------------------- 1.6/11.5 MB 455.3 kB/s eta 0:00:22\n",
      "   ------ --------------------------------- 1.8/11.5 MB 473.5 kB/s eta 0:00:21\n",
      "   ------ --------------------------------- 1.8/11.5 MB 473.5 kB/s eta 0:00:21\n",
      "   ------- -------------------------------- 2.1/11.5 MB 487.7 kB/s eta 0:00:20\n",
      "   ------- -------------------------------- 2.1/11.5 MB 487.7 kB/s eta 0:00:20\n",
      "   ------- -------------------------------- 2.1/11.5 MB 487.7 kB/s eta 0:00:20\n",
      "   -------- ------------------------------- 2.4/11.5 MB 476.3 kB/s eta 0:00:20\n",
      "   -------- ------------------------------- 2.4/11.5 MB 476.3 kB/s eta 0:00:20\n",
      "   -------- ------------------------------- 2.4/11.5 MB 476.3 kB/s eta 0:00:20\n",
      "   --------- ------------------------------ 2.6/11.5 MB 469.3 kB/s eta 0:00:19\n",
      "   --------- ------------------------------ 2.6/11.5 MB 469.3 kB/s eta 0:00:19\n",
      "   ---------- ----------------------------- 2.9/11.5 MB 475.2 kB/s eta 0:00:19\n",
      "   ---------- ----------------------------- 2.9/11.5 MB 475.2 kB/s eta 0:00:19\n",
      "   ---------- ----------------------------- 2.9/11.5 MB 475.2 kB/s eta 0:00:19\n",
      "   ---------- ----------------------------- 3.1/11.5 MB 477.7 kB/s eta 0:00:18\n",
      "   ---------- ----------------------------- 3.1/11.5 MB 477.7 kB/s eta 0:00:18\n",
      "   ----------- ---------------------------- 3.4/11.5 MB 478.7 kB/s eta 0:00:17\n",
      "   ----------- ---------------------------- 3.4/11.5 MB 478.7 kB/s eta 0:00:17\n",
      "   ----------- ---------------------------- 3.4/11.5 MB 478.7 kB/s eta 0:00:17\n",
      "   ------------ --------------------------- 3.7/11.5 MB 478.3 kB/s eta 0:00:17\n",
      "   ------------ --------------------------- 3.7/11.5 MB 478.3 kB/s eta 0:00:17\n",
      "   ------------- -------------------------- 3.9/11.5 MB 484.9 kB/s eta 0:00:16\n",
      "   -------------- ------------------------- 4.2/11.5 MB 494.4 kB/s eta 0:00:15\n",
      "   -------------- ------------------------- 4.2/11.5 MB 494.4 kB/s eta 0:00:15\n",
      "   --------------- ------------------------ 4.5/11.5 MB 505.7 kB/s eta 0:00:14\n",
      "   --------------- ------------------------ 4.5/11.5 MB 505.7 kB/s eta 0:00:14\n",
      "   ---------------- ----------------------- 4.7/11.5 MB 515.1 kB/s eta 0:00:14\n",
      "   ----------------- ---------------------- 5.0/11.5 MB 523.6 kB/s eta 0:00:13\n",
      "   ----------------- ---------------------- 5.0/11.5 MB 523.6 kB/s eta 0:00:13\n",
      "   ------------------ --------------------- 5.2/11.5 MB 536.0 kB/s eta 0:00:12\n",
      "   -------------------- ------------------- 5.8/11.5 MB 568.0 kB/s eta 0:00:11"
     ]
    },
    {
     "name": "stderr",
     "output_type": "stream",
     "text": [
      "  WARNING: The scripts f2py.exe and numpy-config.exe are installed in 'c:\\Users\\Socofin\\AppData\\Local\\Programs\\Python\\Python313\\Scripts' which is not on PATH.\n",
      "  Consider adding this directory to PATH or, if you prefer to suppress this warning, use --no-warn-script-location.\n"
     ]
    },
    {
     "name": "stdout",
     "output_type": "stream",
     "text": [
      "\n",
      "   --------------------- ------------------ 6.0/11.5 MB 585.9 kB/s eta 0:00:10\n",
      "   --------------------- ------------------ 6.3/11.5 MB 600.7 kB/s eta 0:00:09\n",
      "   ---------------------- ----------------- 6.6/11.5 MB 617.6 kB/s eta 0:00:08\n",
      "   ----------------------- ---------------- 6.8/11.5 MB 626.5 kB/s eta 0:00:08\n",
      "   ------------------------ --------------- 7.1/11.5 MB 634.3 kB/s eta 0:00:07\n",
      "   ------------------------- -------------- 7.3/11.5 MB 650.5 kB/s eta 0:00:07\n",
      "   --------------------------- ------------ 7.9/11.5 MB 679.4 kB/s eta 0:00:06\n",
      "   --------------------------- ------------ 7.9/11.5 MB 679.4 kB/s eta 0:00:06\n",
      "   ---------------------------- ----------- 8.1/11.5 MB 685.1 kB/s eta 0:00:05\n",
      "   ----------------------------- ---------- 8.4/11.5 MB 693.6 kB/s eta 0:00:05\n",
      "   ------------------------------ --------- 8.7/11.5 MB 707.2 kB/s eta 0:00:05\n",
      "   ------------------------------- -------- 8.9/11.5 MB 717.8 kB/s eta 0:00:04\n",
      "   ------------------------------- -------- 9.2/11.5 MB 722.9 kB/s eta 0:00:04\n",
      "   -------------------------------- ------- 9.4/11.5 MB 731.1 kB/s eta 0:00:03\n",
      "   --------------------------------- ------ 9.7/11.5 MB 733.1 kB/s eta 0:00:03\n",
      "   --------------------------------- ------ 9.7/11.5 MB 733.1 kB/s eta 0:00:03\n",
      "   ---------------------------------- ----- 10.0/11.5 MB 733.2 kB/s eta 0:00:03\n",
      "   ---------------------------------- ----- 10.0/11.5 MB 733.2 kB/s eta 0:00:03\n",
      "   ----------------------------------- ---- 10.2/11.5 MB 730.7 kB/s eta 0:00:02\n",
      "   ------------------------------------ --- 10.5/11.5 MB 734.6 kB/s eta 0:00:02\n",
      "   ------------------------------------ --- 10.5/11.5 MB 734.6 kB/s eta 0:00:02\n",
      "   ------------------------------------- -- 10.7/11.5 MB 735.6 kB/s eta 0:00:01\n",
      "   ------------------------------------- -- 10.7/11.5 MB 735.6 kB/s eta 0:00:01\n",
      "   -------------------------------------- - 11.0/11.5 MB 733.7 kB/s eta 0:00:01\n",
      "   -------------------------------------- - 11.0/11.5 MB 733.7 kB/s eta 0:00:01\n",
      "   ---------------------------------------  11.3/11.5 MB 729.6 kB/s eta 0:00:01\n",
      "   ---------------------------------------  11.3/11.5 MB 729.6 kB/s eta 0:00:01\n",
      "   ---------------------------------------  11.3/11.5 MB 729.6 kB/s eta 0:00:01\n",
      "   ---------------------------------------- 11.5/11.5 MB 715.0 kB/s eta 0:00:00\n",
      "Downloading numpy-2.1.2-cp313-cp313-win_amd64.whl (12.6 MB)\n",
      "   ---------------------------------------- 0.0/12.6 MB ? eta -:--:--\n",
      "   ---------------------------------------- 0.0/12.6 MB ? eta -:--:--\n",
      "   ---------------------------------------- 0.0/12.6 MB ? eta -:--:--\n",
      "    --------------------------------------- 0.3/12.6 MB ? eta -:--:--\n",
      "    --------------------------------------- 0.3/12.6 MB ? eta -:--:--\n",
      "   - -------------------------------------- 0.5/12.6 MB 532.1 kB/s eta 0:00:23\n",
      "   - -------------------------------------- 0.5/12.6 MB 532.1 kB/s eta 0:00:23\n",
      "   - -------------------------------------- 0.5/12.6 MB 532.1 kB/s eta 0:00:23\n",
      "   -- ------------------------------------- 0.8/12.6 MB 547.0 kB/s eta 0:00:22\n",
      "   -- ------------------------------------- 0.8/12.6 MB 547.0 kB/s eta 0:00:22\n",
      "   --- ------------------------------------ 1.0/12.6 MB 551.8 kB/s eta 0:00:21\n",
      "   ---- ----------------------------------- 1.3/12.6 MB 616.7 kB/s eta 0:00:19\n",
      "   ----- ---------------------------------- 1.6/12.6 MB 644.2 kB/s eta 0:00:18\n",
      "   ----- ---------------------------------- 1.6/12.6 MB 644.2 kB/s eta 0:00:18\n",
      "   ----- ---------------------------------- 1.8/12.6 MB 664.2 kB/s eta 0:00:17\n",
      "   ----- ---------------------------------- 1.8/12.6 MB 664.2 kB/s eta 0:00:17\n",
      "   ------ --------------------------------- 2.1/12.6 MB 658.8 kB/s eta 0:00:16\n",
      "   ------ --------------------------------- 2.1/12.6 MB 658.8 kB/s eta 0:00:16\n",
      "   ------- -------------------------------- 2.4/12.6 MB 674.2 kB/s eta 0:00:16\n",
      "   -------- ------------------------------- 2.6/12.6 MB 708.1 kB/s eta 0:00:15\n",
      "   --------- ------------------------------ 2.9/12.6 MB 741.7 kB/s eta 0:00:14\n",
      "   ---------- ----------------------------- 3.1/12.6 MB 739.0 kB/s eta 0:00:13\n",
      "   ---------- ----------------------------- 3.1/12.6 MB 739.0 kB/s eta 0:00:13\n",
      "   ---------- ----------------------------- 3.4/12.6 MB 733.4 kB/s eta 0:00:13\n",
      "   ---------- ----------------------------- 3.4/12.6 MB 733.4 kB/s eta 0:00:13\n",
      "   ----------- ---------------------------- 3.7/12.6 MB 721.9 kB/s eta 0:00:13\n",
      "   ----------- ---------------------------- 3.7/12.6 MB 721.9 kB/s eta 0:00:13\n",
      "   ----------- ---------------------------- 3.7/12.6 MB 721.9 kB/s eta 0:00:13\n",
      "   ----------- ---------------------------- 3.7/12.6 MB 721.9 kB/s eta 0:00:13\n",
      "   ------------ --------------------------- 3.9/12.6 MB 649.5 kB/s eta 0:00:14\n",
      "   ------------ --------------------------- 3.9/12.6 MB 649.5 kB/s eta 0:00:14\n",
      "   ------------- -------------------------- 4.2/12.6 MB 667.3 kB/s eta 0:00:13\n",
      "   ------------- -------------------------- 4.2/12.6 MB 667.3 kB/s eta 0:00:13\n",
      "   -------------- ------------------------- 4.5/12.6 MB 664.3 kB/s eta 0:00:13\n",
      "   --------------- ------------------------ 4.7/12.6 MB 674.4 kB/s eta 0:00:12\n",
      "   --------------- ------------------------ 4.7/12.6 MB 674.4 kB/s eta 0:00:12\n",
      "   --------------- ------------------------ 5.0/12.6 MB 664.7 kB/s eta 0:00:12\n",
      "   ---------------- ----------------------- 5.2/12.6 MB 679.3 kB/s eta 0:00:11\n",
      "   ---------------- ----------------------- 5.2/12.6 MB 679.3 kB/s eta 0:00:11\n",
      "   ----------------- ---------------------- 5.5/12.6 MB 686.5 kB/s eta 0:00:11\n",
      "   ------------------ --------------------- 5.8/12.6 MB 694.6 kB/s eta 0:00:10\n",
      "   -------------------- ------------------- 6.3/12.6 MB 737.5 kB/s eta 0:00:09\n",
      "   --------------------- ------------------ 6.8/12.6 MB 782.4 kB/s eta 0:00:08\n",
      "   --------------------- ------------------ 6.8/12.6 MB 782.4 kB/s eta 0:00:08\n",
      "   ---------------------- ----------------- 7.1/12.6 MB 783.2 kB/s eta 0:00:08\n",
      "   ---------------------- ----------------- 7.1/12.6 MB 783.2 kB/s eta 0:00:08\n",
      "   ----------------------- ---------------- 7.3/12.6 MB 778.4 kB/s eta 0:00:07\n",
      "   ------------------------ --------------- 7.6/12.6 MB 783.9 kB/s eta 0:00:07\n",
      "   ------------------------ --------------- 7.6/12.6 MB 783.9 kB/s eta 0:00:07\n",
      "   ------------------------- -------------- 7.9/12.6 MB 782.0 kB/s eta 0:00:07\n",
      "   ------------------------- -------------- 7.9/12.6 MB 782.0 kB/s eta 0:00:07\n",
      "   ------------------------- -------------- 7.9/12.6 MB 782.0 kB/s eta 0:00:07\n",
      "   -------------------------- ------------- 8.4/12.6 MB 780.6 kB/s eta 0:00:06\n",
      "   --------------------------- ------------ 8.7/12.6 MB 785.9 kB/s eta 0:00:05\n",
      "   ---------------------------- ----------- 8.9/12.6 MB 789.6 kB/s eta 0:00:05\n",
      "   ---------------------------- ----------- 8.9/12.6 MB 789.6 kB/s eta 0:00:05\n",
      "   ------------------------------ --------- 9.4/12.6 MB 804.8 kB/s eta 0:00:04\n",
      "   ------------------------------ --------- 9.4/12.6 MB 804.8 kB/s eta 0:00:04\n",
      "   ------------------------------- -------- 10.0/12.6 MB 819.9 kB/s eta 0:00:04\n",
      "   -------------------------------- ------- 10.2/12.6 MB 830.0 kB/s eta 0:00:03\n",
      "   --------------------------------- ------ 10.5/12.6 MB 834.9 kB/s eta 0:00:03\n",
      "   ---------------------------------- ----- 10.7/12.6 MB 840.4 kB/s eta 0:00:03\n",
      "   ---------------------------------- ----- 10.7/12.6 MB 840.4 kB/s eta 0:00:03\n",
      "   ----------------------------------- ---- 11.0/12.6 MB 845.4 kB/s eta 0:00:02\n",
      "   ----------------------------------- ---- 11.3/12.6 MB 844.5 kB/s eta 0:00:02\n",
      "   ----------------------------------- ---- 11.3/12.6 MB 844.5 kB/s eta 0:00:02\n",
      "   ------------------------------------ --- 11.5/12.6 MB 839.9 kB/s eta 0:00:02\n",
      "   ------------------------------------ --- 11.5/12.6 MB 839.9 kB/s eta 0:00:02\n",
      "   ------------------------------------- -- 11.8/12.6 MB 829.4 kB/s eta 0:00:01\n",
      "   ------------------------------------- -- 11.8/12.6 MB 829.4 kB/s eta 0:00:01\n",
      "   -------------------------------------- - 12.1/12.6 MB 821.4 kB/s eta 0:00:01\n",
      "   ---------------------------------------  12.3/12.6 MB 825.4 kB/s eta 0:00:01\n",
      "   ---------------------------------------  12.3/12.6 MB 825.4 kB/s eta 0:00:01\n",
      "   ---------------------------------------  12.3/12.6 MB 825.4 kB/s eta 0:00:01\n",
      "   ---------------------------------------  12.3/12.6 MB 825.4 kB/s eta 0:00:01\n",
      "   ---------------------------------------  12.3/12.6 MB 825.4 kB/s eta 0:00:01\n",
      "   ---------------------------------------  12.3/12.6 MB 825.4 kB/s eta 0:00:01\n",
      "   ---------------------------------------  12.3/12.6 MB 825.4 kB/s eta 0:00:01\n",
      "   ---------------------------------------  12.3/12.6 MB 825.4 kB/s eta 0:00:01\n",
      "   ---------------------------------------  12.3/12.6 MB 825.4 kB/s eta 0:00:01\n",
      "   ---------------------------------------  12.3/12.6 MB 825.4 kB/s eta 0:00:01\n",
      "   ---------------------------------------  12.3/12.6 MB 825.4 kB/s eta 0:00:01\n",
      "   ---------------------------------------  12.3/12.6 MB 825.4 kB/s eta 0:00:01\n",
      "   ---------------------------------------- 12.6/12.6 MB 724.4 kB/s eta 0:00:00\n",
      "Downloading pytz-2024.2-py2.py3-none-any.whl (508 kB)\n",
      "Downloading tzdata-2024.2-py2.py3-none-any.whl (346 kB)\n",
      "Installing collected packages: pytz, tzdata, numpy, pandas\n",
      "Successfully installed numpy-2.1.2 pandas-2.2.3 pytz-2024.2 tzdata-2024.2\n"
     ]
    }
   ],
   "source": [
    "#pip instal pandas"
   ]
  },
  {
   "cell_type": "code",
   "execution_count": 5,
   "metadata": {},
   "outputs": [],
   "source": [
    "import pandas as pd"
   ]
  },
  {
   "cell_type": "code",
   "execution_count": 9,
   "metadata": {},
   "outputs": [
    {
     "data": {
      "text/html": [
       "<div>\n",
       "<style scoped>\n",
       "    .dataframe tbody tr th:only-of-type {\n",
       "        vertical-align: middle;\n",
       "    }\n",
       "\n",
       "    .dataframe tbody tr th {\n",
       "        vertical-align: top;\n",
       "    }\n",
       "\n",
       "    .dataframe thead th {\n",
       "        text-align: right;\n",
       "    }\n",
       "</style>\n",
       "<table border=\"1\" class=\"dataframe\">\n",
       "  <thead>\n",
       "    <tr style=\"text-align: right;\">\n",
       "      <th></th>\n",
       "      <th>rut</th>\n",
       "      <th>nombre</th>\n",
       "    </tr>\n",
       "  </thead>\n",
       "  <tbody>\n",
       "    <tr>\n",
       "      <th>0</th>\n",
       "      <td>12394845</td>\n",
       "      <td>Pablo</td>\n",
       "    </tr>\n",
       "    <tr>\n",
       "      <th>1</th>\n",
       "      <td>19847453</td>\n",
       "      <td>Julio</td>\n",
       "    </tr>\n",
       "  </tbody>\n",
       "</table>\n",
       "</div>"
      ],
      "text/plain": [
       "        rut nombre\n",
       "0  12394845  Pablo\n",
       "1  19847453  Julio"
      ]
     },
     "execution_count": 9,
     "metadata": {},
     "output_type": "execute_result"
    }
   ],
   "source": [
    "diccionario_personas = {'rut':[12394845,19847453],\n",
    "                        'nombre': ['Pablo','Julio']}\n",
    "df = pd.DataFrame(diccionario_personas)\n",
    "df"
   ]
  },
  {
   "cell_type": "code",
   "execution_count": 8,
   "metadata": {},
   "outputs": [
    {
     "data": {
      "text/html": [
       "<div>\n",
       "<style scoped>\n",
       "    .dataframe tbody tr th:only-of-type {\n",
       "        vertical-align: middle;\n",
       "    }\n",
       "\n",
       "    .dataframe tbody tr th {\n",
       "        vertical-align: top;\n",
       "    }\n",
       "\n",
       "    .dataframe thead th {\n",
       "        text-align: right;\n",
       "    }\n",
       "</style>\n",
       "<table border=\"1\" class=\"dataframe\">\n",
       "  <thead>\n",
       "    <tr style=\"text-align: right;\">\n",
       "      <th></th>\n",
       "      <th>Nombre</th>\n",
       "      <th>Apellido</th>\n",
       "      <th>Edad</th>\n",
       "    </tr>\n",
       "  </thead>\n",
       "  <tbody>\n",
       "    <tr>\n",
       "      <th>0</th>\n",
       "      <td>Juan</td>\n",
       "      <td>Pérez</td>\n",
       "      <td>45</td>\n",
       "    </tr>\n",
       "    <tr>\n",
       "      <th>1</th>\n",
       "      <td>Pedro</td>\n",
       "      <td>Picapiedras</td>\n",
       "      <td>58</td>\n",
       "    </tr>\n",
       "    <tr>\n",
       "      <th>2</th>\n",
       "      <td>Ricardo</td>\n",
       "      <td>González</td>\n",
       "      <td>35</td>\n",
       "    </tr>\n",
       "  </tbody>\n",
       "</table>\n",
       "</div>"
      ],
      "text/plain": [
       "    Nombre     Apellido  Edad\n",
       "0     Juan        Pérez    45\n",
       "1    Pedro  Picapiedras    58\n",
       "2  Ricardo     González    35"
      ]
     },
     "execution_count": 8,
     "metadata": {},
     "output_type": "execute_result"
    }
   ],
   "source": [
    "#mport pandas as pd\n",
    "\n",
    "df2 = pd.read_csv('archivoCsv.csv',sep=';')\n",
    "\n",
    "df2"
   ]
  },
  {
   "cell_type": "code",
   "execution_count": 15,
   "metadata": {},
   "outputs": [
    {
     "data": {
      "text/html": [
       "<div>\n",
       "<style scoped>\n",
       "    .dataframe tbody tr th:only-of-type {\n",
       "        vertical-align: middle;\n",
       "    }\n",
       "\n",
       "    .dataframe tbody tr th {\n",
       "        vertical-align: top;\n",
       "    }\n",
       "\n",
       "    .dataframe thead th {\n",
       "        text-align: right;\n",
       "    }\n",
       "</style>\n",
       "<table border=\"1\" class=\"dataframe\">\n",
       "  <thead>\n",
       "    <tr style=\"text-align: right;\">\n",
       "      <th></th>\n",
       "      <th>rut</th>\n",
       "      <th>nombre</th>\n",
       "      <th>genero</th>\n",
       "      <th>edad</th>\n",
       "    </tr>\n",
       "  </thead>\n",
       "  <tbody>\n",
       "    <tr>\n",
       "      <th>0</th>\n",
       "      <td>12394845</td>\n",
       "      <td>pablo</td>\n",
       "      <td>hombre</td>\n",
       "      <td>12</td>\n",
       "    </tr>\n",
       "    <tr>\n",
       "      <th>1</th>\n",
       "      <td>19847453</td>\n",
       "      <td>julio</td>\n",
       "      <td>hombre</td>\n",
       "      <td>23</td>\n",
       "    </tr>\n",
       "    <tr>\n",
       "      <th>2</th>\n",
       "      <td>19284757</td>\n",
       "      <td>maria</td>\n",
       "      <td>mujer</td>\n",
       "      <td>15</td>\n",
       "    </tr>\n",
       "    <tr>\n",
       "      <th>3</th>\n",
       "      <td>12837476</td>\n",
       "      <td>sofia</td>\n",
       "      <td>mujer</td>\n",
       "      <td>25</td>\n",
       "    </tr>\n",
       "  </tbody>\n",
       "</table>\n",
       "</div>"
      ],
      "text/plain": [
       "        rut nombre  genero  edad\n",
       "0  12394845  pablo  hombre    12\n",
       "1  19847453  julio  hombre    23\n",
       "2  19284757  maria   mujer    15\n",
       "3  12837476  sofia   mujer    25"
      ]
     },
     "execution_count": 15,
     "metadata": {},
     "output_type": "execute_result"
    }
   ],
   "source": [
    "df3 = pd.DataFrame()\n",
    "\n",
    "df3['rut'] = [12394845,19847453,19284757,12837476]\n",
    "df3['nombre'] = ['pablo','julio','maria','sofia']\n",
    "df3['genero'] = ['hombre','hombre','mujer','mujer']\n",
    "df3['edad'] = [12, 23, 15, 25]\n",
    "\n",
    "df3"
   ]
  },
  {
   "cell_type": "markdown",
   "metadata": {},
   "source": [
    "## Filtros de Datos con Python"
   ]
  },
  {
   "cell_type": "code",
   "execution_count": 18,
   "metadata": {},
   "outputs": [
    {
     "data": {
      "text/html": [
       "<div>\n",
       "<style scoped>\n",
       "    .dataframe tbody tr th:only-of-type {\n",
       "        vertical-align: middle;\n",
       "    }\n",
       "\n",
       "    .dataframe tbody tr th {\n",
       "        vertical-align: top;\n",
       "    }\n",
       "\n",
       "    .dataframe thead th {\n",
       "        text-align: right;\n",
       "    }\n",
       "</style>\n",
       "<table border=\"1\" class=\"dataframe\">\n",
       "  <thead>\n",
       "    <tr style=\"text-align: right;\">\n",
       "      <th></th>\n",
       "      <th>rut</th>\n",
       "      <th>nombre</th>\n",
       "      <th>genero</th>\n",
       "      <th>edad</th>\n",
       "    </tr>\n",
       "  </thead>\n",
       "  <tbody>\n",
       "    <tr>\n",
       "      <th>1</th>\n",
       "      <td>19847453</td>\n",
       "      <td>julio</td>\n",
       "      <td>hombre</td>\n",
       "      <td>23</td>\n",
       "    </tr>\n",
       "    <tr>\n",
       "      <th>2</th>\n",
       "      <td>19284757</td>\n",
       "      <td>maria</td>\n",
       "      <td>mujer</td>\n",
       "      <td>15</td>\n",
       "    </tr>\n",
       "    <tr>\n",
       "      <th>3</th>\n",
       "      <td>12837476</td>\n",
       "      <td>sofia</td>\n",
       "      <td>mujer</td>\n",
       "      <td>25</td>\n",
       "    </tr>\n",
       "  </tbody>\n",
       "</table>\n",
       "</div>"
      ],
      "text/plain": [
       "        rut nombre  genero  edad\n",
       "1  19847453  julio  hombre    23\n",
       "2  19284757  maria   mujer    15\n",
       "3  12837476  sofia   mujer    25"
      ]
     },
     "execution_count": 18,
     "metadata": {},
     "output_type": "execute_result"
    }
   ],
   "source": [
    "df3[df3['edad']>12]\n"
   ]
  },
  {
   "cell_type": "markdown",
   "metadata": {},
   "source": [
    "## USANDO AND &"
   ]
  },
  {
   "cell_type": "code",
   "execution_count": 19,
   "metadata": {},
   "outputs": [
    {
     "data": {
      "text/html": [
       "<div>\n",
       "<style scoped>\n",
       "    .dataframe tbody tr th:only-of-type {\n",
       "        vertical-align: middle;\n",
       "    }\n",
       "\n",
       "    .dataframe tbody tr th {\n",
       "        vertical-align: top;\n",
       "    }\n",
       "\n",
       "    .dataframe thead th {\n",
       "        text-align: right;\n",
       "    }\n",
       "</style>\n",
       "<table border=\"1\" class=\"dataframe\">\n",
       "  <thead>\n",
       "    <tr style=\"text-align: right;\">\n",
       "      <th></th>\n",
       "      <th>rut</th>\n",
       "      <th>nombre</th>\n",
       "      <th>genero</th>\n",
       "      <th>edad</th>\n",
       "    </tr>\n",
       "  </thead>\n",
       "  <tbody>\n",
       "    <tr>\n",
       "      <th>3</th>\n",
       "      <td>12837476</td>\n",
       "      <td>sofia</td>\n",
       "      <td>mujer</td>\n",
       "      <td>25</td>\n",
       "    </tr>\n",
       "  </tbody>\n",
       "</table>\n",
       "</div>"
      ],
      "text/plain": [
       "        rut nombre genero  edad\n",
       "3  12837476  sofia  mujer    25"
      ]
     },
     "execution_count": 19,
     "metadata": {},
     "output_type": "execute_result"
    }
   ],
   "source": [
    "df3[(df3['edad']>20) & (df3['genero']=='mujer')] \n"
   ]
  },
  {
   "cell_type": "markdown",
   "metadata": {},
   "source": [
    "## USANDO OR |"
   ]
  },
  {
   "cell_type": "code",
   "execution_count": 20,
   "metadata": {},
   "outputs": [
    {
     "data": {
      "text/html": [
       "<div>\n",
       "<style scoped>\n",
       "    .dataframe tbody tr th:only-of-type {\n",
       "        vertical-align: middle;\n",
       "    }\n",
       "\n",
       "    .dataframe tbody tr th {\n",
       "        vertical-align: top;\n",
       "    }\n",
       "\n",
       "    .dataframe thead th {\n",
       "        text-align: right;\n",
       "    }\n",
       "</style>\n",
       "<table border=\"1\" class=\"dataframe\">\n",
       "  <thead>\n",
       "    <tr style=\"text-align: right;\">\n",
       "      <th></th>\n",
       "      <th>rut</th>\n",
       "      <th>nombre</th>\n",
       "      <th>genero</th>\n",
       "      <th>edad</th>\n",
       "    </tr>\n",
       "  </thead>\n",
       "  <tbody>\n",
       "    <tr>\n",
       "      <th>1</th>\n",
       "      <td>19847453</td>\n",
       "      <td>julio</td>\n",
       "      <td>hombre</td>\n",
       "      <td>23</td>\n",
       "    </tr>\n",
       "    <tr>\n",
       "      <th>2</th>\n",
       "      <td>19284757</td>\n",
       "      <td>maria</td>\n",
       "      <td>mujer</td>\n",
       "      <td>15</td>\n",
       "    </tr>\n",
       "    <tr>\n",
       "      <th>3</th>\n",
       "      <td>12837476</td>\n",
       "      <td>sofia</td>\n",
       "      <td>mujer</td>\n",
       "      <td>25</td>\n",
       "    </tr>\n",
       "  </tbody>\n",
       "</table>\n",
       "</div>"
      ],
      "text/plain": [
       "        rut nombre  genero  edad\n",
       "1  19847453  julio  hombre    23\n",
       "2  19284757  maria   mujer    15\n",
       "3  12837476  sofia   mujer    25"
      ]
     },
     "execution_count": 20,
     "metadata": {},
     "output_type": "execute_result"
    }
   ],
   "source": [
    "df3[(df3['edad']>20) | (df3['genero']=='mujer')] \n"
   ]
  },
  {
   "cell_type": "markdown",
   "metadata": {},
   "source": [
    "## RECUENTO DE VALORES\n",
    "### METODO \n",
    "<p>value_counts()"
   ]
  },
  {
   "cell_type": "code",
   "execution_count": 21,
   "metadata": {},
   "outputs": [
    {
     "data": {
      "text/plain": [
       "genero\n",
       "hombre    2\n",
       "mujer     2\n",
       "Name: count, dtype: int64"
      ]
     },
     "execution_count": 21,
     "metadata": {},
     "output_type": "execute_result"
    }
   ],
   "source": [
    "df3['genero'].value_counts()"
   ]
  },
  {
   "cell_type": "markdown",
   "metadata": {},
   "source": [
    "### VALORES UNICOS\n",
    "<p> unique()"
   ]
  },
  {
   "cell_type": "code",
   "execution_count": 23,
   "metadata": {},
   "outputs": [
    {
     "data": {
      "text/plain": [
       "array(['hombre', 'mujer'], dtype=object)"
      ]
     },
     "execution_count": 23,
     "metadata": {},
     "output_type": "execute_result"
    }
   ],
   "source": [
    "df3['genero'].unique()"
   ]
  },
  {
   "cell_type": "code",
   "execution_count": 24,
   "metadata": {},
   "outputs": [],
   "source": [
    "df_baterista = pd.read_csv('bateristas.csv')"
   ]
  },
  {
   "cell_type": "code",
   "execution_count": 29,
   "metadata": {},
   "outputs": [
    {
     "data": {
      "text/html": [
       "<div>\n",
       "<style scoped>\n",
       "    .dataframe tbody tr th:only-of-type {\n",
       "        vertical-align: middle;\n",
       "    }\n",
       "\n",
       "    .dataframe tbody tr th {\n",
       "        vertical-align: top;\n",
       "    }\n",
       "\n",
       "    .dataframe thead th {\n",
       "        text-align: right;\n",
       "    }\n",
       "</style>\n",
       "<table border=\"1\" class=\"dataframe\">\n",
       "  <thead>\n",
       "    <tr style=\"text-align: right;\">\n",
       "      <th></th>\n",
       "      <th>Nombre</th>\n",
       "      <th>Apellido</th>\n",
       "      <th>Día</th>\n",
       "      <th>Mes</th>\n",
       "      <th>Año</th>\n",
       "    </tr>\n",
       "  </thead>\n",
       "  <tbody>\n",
       "    <tr>\n",
       "      <th>4</th>\n",
       "      <td>Joey</td>\n",
       "      <td>Jordison</td>\n",
       "      <td>26</td>\n",
       "      <td>4</td>\n",
       "      <td>1975</td>\n",
       "    </tr>\n",
       "    <tr>\n",
       "      <th>7</th>\n",
       "      <td>Tomas</td>\n",
       "      <td>Haake</td>\n",
       "      <td>13</td>\n",
       "      <td>7</td>\n",
       "      <td>1971</td>\n",
       "    </tr>\n",
       "    <tr>\n",
       "      <th>10</th>\n",
       "      <td>Chris</td>\n",
       "      <td>Adler</td>\n",
       "      <td>23</td>\n",
       "      <td>11</td>\n",
       "      <td>1972</td>\n",
       "    </tr>\n",
       "    <tr>\n",
       "      <th>13</th>\n",
       "      <td>Frost</td>\n",
       "      <td>(Kjetil-Vidar Haraldstad)</td>\n",
       "      <td>28</td>\n",
       "      <td>6</td>\n",
       "      <td>1973</td>\n",
       "    </tr>\n",
       "  </tbody>\n",
       "</table>\n",
       "</div>"
      ],
      "text/plain": [
       "   Nombre                   Apellido  Día  Mes   Año\n",
       "4    Joey                   Jordison   26    4  1975\n",
       "7   Tomas                      Haake   13    7  1971\n",
       "10  Chris                      Adler   23   11  1972\n",
       "13  Frost  (Kjetil-Vidar Haraldstad)   28    6  1973"
      ]
     },
     "execution_count": 29,
     "metadata": {},
     "output_type": "execute_result"
    }
   ],
   "source": [
    "df_baterista[(df_baterista['Año']>1970) & ((df_baterista['Mes']>=3) & (df_baterista['Mes']<= 11 ))]"
   ]
  }
 ],
 "metadata": {
  "kernelspec": {
   "display_name": "Python 3",
   "language": "python",
   "name": "python3"
  },
  "language_info": {
   "codemirror_mode": {
    "name": "ipython",
    "version": 3
   },
   "file_extension": ".py",
   "mimetype": "text/x-python",
   "name": "python",
   "nbconvert_exporter": "python",
   "pygments_lexer": "ipython3",
   "version": "3.13.0"
  }
 },
 "nbformat": 4,
 "nbformat_minor": 2
}
