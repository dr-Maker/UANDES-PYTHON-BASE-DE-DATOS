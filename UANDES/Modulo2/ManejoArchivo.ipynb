{
 "cells": [
  {
   "cell_type": "markdown",
   "metadata": {},
   "source": [
    "# Manejo de Archivo\n",
    "### ruta absoluta\n",
    "C:\\Users\\Socofin\\Documents\\UANDES-PYTHON-BASE-DE-DATOS\\UANDES\\Modulo2\\input.txt\n",
    "\n",
    "## ruta relativa añ Modulo2\n",
    "input.txt\n"
   ]
  },
  {
   "cell_type": "code",
   "execution_count": 3,
   "metadata": {},
   "outputs": [
    {
     "name": "stdout",
     "output_type": "stream",
     "text": [
      "<_io.TextIOWrapper name='input.txt' mode='r' encoding='cp1252'>\n"
     ]
    }
   ],
   "source": [
    "archivo = open(\"input.txt\")\n",
    "print(archivo)"
   ]
  },
  {
   "cell_type": "code",
   "execution_count": 12,
   "metadata": {},
   "outputs": [
    {
     "name": "stdout",
     "output_type": "stream",
     "text": [
      "<_io.TextIOWrapper name='C:\\\\Users\\\\Socofin\\\\Documents\\\\UANDES-PYTHON-BASE-DE-DATOS\\\\UANDES\\\\Modulo2\\\\input.txt' mode='r' encoding='cp1252'>\n"
     ]
    }
   ],
   "source": [
    "archivo = open('C:\\\\Users\\\\Socofin\\\\Documents\\\\UANDES-PYTHON-BASE-DE-DATOS\\\\UANDES\\\\Modulo2\\\\input.txt')\n",
    "print(archivo)"
   ]
  },
  {
   "cell_type": "markdown",
   "metadata": {},
   "source": [
    "## Leyendo un archivo por linea"
   ]
  },
  {
   "cell_type": "code",
   "execution_count": 13,
   "metadata": {},
   "outputs": [
    {
     "name": "stdout",
     "output_type": "stream",
     "text": [
      "Esta es la linea 1 y se esta leyendo, aÃºn contiuna la primera liena\n",
      "Ahora se encuentra en la segunda linea del archivo y se encuentra leyendo esta segunda linea, la cual es mucho mas larga que la linea anterior.\n"
     ]
    }
   ],
   "source": [
    "leerArchivo = open(\"input.txt\")\n",
    "\n",
    "linea1 = leerArchivo.readline().strip()\n",
    "linea2 = leerArchivo.readline().strip()\n",
    "\n",
    "print(linea1)\n",
    "print(linea2)\n",
    "\n",
    "leerArchivo.close()\n",
    "\n"
   ]
  },
  {
   "cell_type": "markdown",
   "metadata": {},
   "source": [
    "## Reconociendo si est la última linea del archivo"
   ]
  },
  {
   "cell_type": "code",
   "execution_count": 15,
   "metadata": {},
   "outputs": [
    {
     "name": "stdout",
     "output_type": "stream",
     "text": [
      "El archivo tiene dos lineas\n"
     ]
    }
   ],
   "source": [
    "leerArchivo = open(\"input.txt\")\n",
    "linea1 = leerArchivo.readline().strip()\n",
    "linea2 = leerArchivo.readline().strip()\n",
    "linea3 = leerArchivo.readline().strip()\n",
    "\n",
    "if len(linea1) == 0 :\n",
    "    print('El archivo esta vacio')\n",
    "elif len(linea2) == 0:\n",
    "    print('El archivo tiene una sola linea')\n",
    "elif len(linea3) == 0:\n",
    "    print('El archivo tiene dos lineas')\n",
    "\n",
    "\n",
    "leerArchivo.close()"
   ]
  },
  {
   "cell_type": "markdown",
   "metadata": {},
   "source": [
    "## Leyendo un archivo Completo con While"
   ]
  },
  {
   "cell_type": "code",
   "execution_count": 19,
   "metadata": {},
   "outputs": [
    {
     "name": "stdout",
     "output_type": "stream",
     "text": [
      "Esta es la linea 1 y se esta leyendo, aÃºn contiuna la primera liena\n",
      "Ahora se encuentra en la segunda linea del archivo y se encuentra leyendo esta segunda linea, la cual es mucho mas larga que la linea anterior.\n"
     ]
    }
   ],
   "source": [
    "leerArchivo = open(\"input.txt\")\n",
    "\n",
    "linea = leerArchivo.readline()\n",
    "\n",
    "while len(linea) > 0:\n",
    "    print(linea.strip())\n",
    "    linea =leerArchivo.readline()\n",
    "leerArchivo.close()"
   ]
  },
  {
   "cell_type": "markdown",
   "metadata": {},
   "source": [
    "## Leyendo un archivo Completo con For"
   ]
  },
  {
   "cell_type": "code",
   "execution_count": 20,
   "metadata": {},
   "outputs": [
    {
     "name": "stdout",
     "output_type": "stream",
     "text": [
      "Esta es la linea 1 y se esta leyendo, aÃºn contiuna la primera liena\n",
      "\n",
      "Ahora se encuentra en la segunda linea del archivo y se encuentra leyendo esta segunda linea, la cual es mucho mas larga que la linea anterior.\n"
     ]
    }
   ],
   "source": [
    "leerArchivo = open(\"input.txt\")\n",
    "\n",
    "for linea in leerArchivo:\n",
    "    print(linea)\n",
    "\n",
    "leerArchivo.close()"
   ]
  },
  {
   "cell_type": "markdown",
   "metadata": {},
   "source": [
    "## Abrir un documento en modo escritura"
   ]
  },
  {
   "cell_type": "code",
   "execution_count": 22,
   "metadata": {},
   "outputs": [
    {
     "data": {
      "text/plain": [
       "11"
      ]
     },
     "execution_count": 22,
     "metadata": {},
     "output_type": "execute_result"
    }
   ],
   "source": [
    "archivoEscritura = open(\"ouput.txt\",\"w\")\n",
    "archivoEscritura.write('Hola Mundo\\n')"
   ]
  },
  {
   "cell_type": "code",
   "execution_count": 28,
   "metadata": {},
   "outputs": [
    {
     "name": "stdout",
     "output_type": "stream",
     "text": [
      "hola\n",
      "\n",
      "Mundo \n",
      "\n",
      "Esta es una nueva linea agregada \n",
      "\n"
     ]
    }
   ],
   "source": [
    "archivoEscritura = open(\"ouput.txt\")\n",
    "\n",
    "for linea in archivoEscritura:\n",
    "    print(linea)\n",
    "\n",
    "archivoEscritura.close()"
   ]
  },
  {
   "cell_type": "code",
   "execution_count": 25,
   "metadata": {},
   "outputs": [],
   "source": [
    "archivoEscritura = open(\"ouput.txt\",\"w\")\n",
    "archivoEscritura.write('h')\n",
    "archivoEscritura.write('o')\n",
    "archivoEscritura.write('l')\n",
    "archivoEscritura.write('a')\n",
    "archivoEscritura.write('\\n')\n",
    "archivoEscritura.write('Mundo \\n')\n",
    "\n",
    "archivoEscritura.close()"
   ]
  },
  {
   "cell_type": "markdown",
   "metadata": {},
   "source": [
    "## El modo Append agrega contenido al final del archivo si ya existe el documento o si no existe el documento lo crea"
   ]
  },
  {
   "cell_type": "code",
   "execution_count": 27,
   "metadata": {},
   "outputs": [],
   "source": [
    "archivoEscritura = open(\"ouput.txt\",\"a\")\n",
    "archivoEscritura.write('Esta es una nueva linea agregada \\n')\n",
    "archivoEscritura.close()"
   ]
  }
 ],
 "metadata": {
  "kernelspec": {
   "display_name": "Python 3",
   "language": "python",
   "name": "python3"
  },
  "language_info": {
   "codemirror_mode": {
    "name": "ipython",
    "version": 3
   },
   "file_extension": ".py",
   "mimetype": "text/x-python",
   "name": "python",
   "nbconvert_exporter": "python",
   "pygments_lexer": "ipython3",
   "version": "3.13.0"
  }
 },
 "nbformat": 4,
 "nbformat_minor": 2
}
