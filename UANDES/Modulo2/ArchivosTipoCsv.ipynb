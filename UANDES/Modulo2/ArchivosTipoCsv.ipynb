{
 "cells": [
  {
   "cell_type": "markdown",
   "metadata": {},
   "source": [
    "# CSV Comma Separated Values"
   ]
  },
  {
   "cell_type": "code",
   "execution_count": 1,
   "metadata": {},
   "outputs": [],
   "source": [
    "import csv"
   ]
  },
  {
   "cell_type": "code",
   "execution_count": 2,
   "metadata": {},
   "outputs": [
    {
     "name": "stdout",
     "output_type": "stream",
     "text": [
      "Nombre : Nombre\n",
      "Apellido : Apellido\n",
      "Nombre : Juan\n",
      "Apellido : PÃ©rez\n",
      "Nombre : Pedro\n",
      "Apellido : Picapiedras\n",
      "Nombre : Ricardo\n",
      "Apellido : GonzÃ¡lez\n"
     ]
    }
   ],
   "source": [
    "archivo = open('archivoCsv.csv')    \n",
    "lector_filas = csv.reader(archivo, delimiter=';')\n",
    "\n",
    "for fila in lector_filas:\n",
    "    print('Nombre : ' + fila[0])\n",
    "    print('Apellido : ' + fila[1])\n",
    "\n",
    "archivo.close()"
   ]
  },
  {
   "cell_type": "code",
   "execution_count": 3,
   "metadata": {},
   "outputs": [
    {
     "name": "stdout",
     "output_type": "stream",
     "text": [
      "['Nombre', 'Apellido', 'DÃ\\xada', 'Mes', 'AÃ±o']\n",
      "['Lars', 'Ulrich', '26', '12', '1963']\n",
      "['Dave', 'Lombardo', '16', '2', '1965']\n",
      "['Nicko', 'McBrain', '5', '6', '1952']\n",
      "['Charlie', 'Benante', '27', '11', '1962']\n",
      "['Joey', 'Jordison', '26', '4', '1975']\n",
      "['Vinnie', 'Paul', '11', '3', '1964']\n",
      "['Mike', 'Portnoy', '20', '4', '1967']\n",
      "['Tomas', 'Haake', '13', '7', '1971']\n",
      "['Danny', 'Carey', '10', '5', '1961']\n",
      "['Igor', 'Cavalera', '4', '9', '1970']\n",
      "['Chris', 'Adler', '23', '11', '1972']\n",
      "['Jason', 'Bittner', '11', '1', '1970']\n",
      "['Gene', 'Hoglan', '31', '8', '1967']\n",
      "['Frost', '(Kjetil-Vidar Haraldstad)', '28', '6', '1973']\n",
      "['Paul', 'Bostaph', '4', '3', '1964']\n"
     ]
    }
   ],
   "source": [
    "import csv\n",
    "\n",
    "archivoBateristas = open('bateristas.csv')\n",
    "filasBateristas = csv.reader(archivoBateristas, delimiter=',')\n",
    "\n",
    "for fila in filasBateristas:\n",
    "    print(fila)\n",
    "\n",
    "archivoBateristas.close()"
   ]
  },
  {
   "cell_type": "code",
   "execution_count": 5,
   "metadata": {},
   "outputs": [
    {
     "name": "stdout",
     "output_type": "stream",
     "text": [
      "Nombre Mike Apellido Portnoy\n",
      "Nombre Gene Apellido Hoglan\n"
     ]
    }
   ],
   "source": [
    "import csv\n",
    "\n",
    "archivoBateristas = open('bateristas.csv')\n",
    "filasBateristas = csv.reader(archivoBateristas, delimiter=',')\n",
    "\n",
    "filto_anno = '1967' \n",
    "\n",
    "for fila in filasBateristas:\n",
    "    if fila[4] == filto_anno:\n",
    "        print(\"Nombre \" +  fila[0] + ' Apellido ' + fila[1] )\n",
    "\n",
    "archivoBateristas.close()"
   ]
  }
 ],
 "metadata": {
  "kernelspec": {
   "display_name": "Python 3",
   "language": "python",
   "name": "python3"
  },
  "language_info": {
   "codemirror_mode": {
    "name": "ipython",
    "version": 3
   },
   "file_extension": ".py",
   "mimetype": "text/x-python",
   "name": "python",
   "nbconvert_exporter": "python",
   "pygments_lexer": "ipython3",
   "version": "3.13.0"
  }
 },
 "nbformat": 4,
 "nbformat_minor": 2
}
